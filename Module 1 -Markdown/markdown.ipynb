{
 "cells": [
  {
   "cell_type": "code",
   "execution_count": 1,
   "metadata": {},
   "outputs": [
    {
     "name": "stdout",
     "output_type": "stream",
     "text": [
      "hehe\n"
     ]
    }
   ],
   "source": [
    "print('hehe')"
   ]
  },
  {
   "cell_type": "markdown",
   "metadata": {},
   "source": [
    "# Jupyter Notebook"
   ]
  },
  {
   "cell_type": "markdown",
   "metadata": {},
   "source": [
    "Jupyter Notebook is an open-source web application that allows you to create and share documents than contains live code, equatations, visualizations, and narrative text. Notebook & Markdown is widely used for creating documentation and reports."
   ]
  },
  {
   "cell_type": "markdown",
   "metadata": {},
   "source": [
    "## Keyboard Shortcuts\n"
   ]
  },
  {
   "cell_type": "markdown",
   "metadata": {},
   "source": [
    "- **Shift + Enter**: Execute the current cell and move to the next one.\n",
    "- **Ctrl + Enter**: Execute the current cell and remain in the same cell.\n",
    "- **Esc**: Enter command mode, allowing for navigation and execution commands.\n",
    "- **Enter**: Enter edit mode for the currently selected cell.\n",
    "- **A (in command mode)**: Insert a new cell above the current cell.\n",
    "- **B (in command mode)**: lnsert a new cell below the current cell.\n",
    "- **M (in command mode)**: Change the current cell to a Markdown cell.\n",
    "- **Y (in command mode)**: Change the current cell to a Code cell."
   ]
  },
  {
   "cell_type": "markdown",
   "metadata": {},
   "source": [
    "## What is Markdown?"
   ]
  },
  {
   "cell_type": "markdown",
   "metadata": {},
   "source": [
    "Markdown is a lightweight markup language with plain-text formatting syntax, designed to be easy to read and write. it was created by JohnGruber in 2004 with the goal of allowing people to write using an easy-to-read and easy-to-write plain text format, which could then beconverted into structurally valid XHTML (or HTML). Markdown is widely used for creating documentation, writing README files for projects, andeven writing emails."
   ]
  },
  {
   "cell_type": "markdown",
   "metadata": {},
   "source": [
    "## Bassic Markdown Syntax"
   ]
  },
  {
   "cell_type": "markdown",
   "metadata": {},
   "source": [
    "### Headings"
   ]
  },
  {
   "cell_type": "markdown",
   "metadata": {},
   "source": [
    "<!-- # Heading 1, Title -->\n",
    "<!-- ## Heading 2, Major Headings -->\n",
    "### Heading 3, Subheadings\n",
    "###### Heading 6, 6th level subheadings"
   ]
  },
  {
   "cell_type": "markdown",
   "metadata": {},
   "source": [
    "### Plain Text"
   ]
  },
  {
   "cell_type": "markdown",
   "metadata": {},
   "source": [
    "This is a sample of a Plain text."
   ]
  },
  {
   "cell_type": "markdown",
   "metadata": {},
   "source": [
    "### Text Formatting"
   ]
  },
  {
   "cell_type": "markdown",
   "metadata": {},
   "source": [
    "<!-- Anythin that you want to add as a note that will be ignored by the cell -->\n",
    "\n",
    "<!-- Bold -->\n",
    "This is a **bold text**\n",
    "\n",
    "<!-- Italic -->\n",
    "This is some *italictized text*.\n",
    "\n",
    "This is some _italictized text_.\n",
    "\n",
    "<!-- Strikethrough -->\n",
    "This is some ~~invalid text~~.\n",
    "\n",
    "<!-- Use HTML Tags -->\n",
    "<!-- Subscript & Superscript -->\n",
    "The chemical formula of water is H<sub>2</sub>O\n",
    "The expression is x<sup>2</sup>"
   ]
  },
  {
   "cell_type": "markdown",
   "metadata": {},
   "source": [
    "<!-- Inline Code -->\n",
    "This statement will generate Hello, World!\n",
    "\n",
    "`print(\"Hello World!\")`\n",
    "\n",
    "<!-- Blockquotes -->\n",
    "> This is an important message\n",
    "\n",
    "<!-- Horizontal Rules -->\n",
    "<!-- Hyphen -->\n",
    "---\n",
    "<!-- Asterisk -->\n",
    "***\n",
    "<!-- Underscore -->\n",
    "___"
   ]
  },
  {
   "cell_type": "markdown",
   "metadata": {},
   "source": [
    "### Lists\n",
    "\n",
    "#### Ordered List\n",
    "1. Item 1\n",
    "2. Item 2\n",
    "3. Item 3\n",
    "\n",
    "#### Unordered List\n",
    "- Apple\n",
    "- Banana\n",
    "- Cherry\n",
    "- Mango\n",
    "\n",
    "#### Nested Lists\n",
    "- HTML\n",
    "    - HyperText Markup Language\n",
    "    - Purposes\n",
    "        1. Structure to the Website.\n",
    "        2. Build the website.\n",
    "\n",
    "\n"
   ]
  },
  {
   "cell_type": "markdown",
   "metadata": {},
   "source": [
    "### Links\n",
    "<!-- [] = Text, () = Link -->\n",
    "[Google](https://www.google.com)"
   ]
  },
  {
   "cell_type": "markdown",
   "metadata": {},
   "source": [
    "### Image\n",
    "<!-- ![] = Alternative Text, () = Link/File Path -->\n",
    "![Jupyter Notebook Icon](https://jupyter.org/assets/share.png)\n",
    "![Jupyter Notebook Icon](jupyter.png)"
   ]
  },
  {
   "cell_type": "markdown",
   "metadata": {},
   "source": [
    "### Tables\n",
    "\n",
    "| Header1 | Header2 | Header3|\n",
    "|---------|---------|--------|\n",
    "| r1cell1 | r1cell2 | r1cell3 |\n",
    "| r2cell1 | r2cell2 | r2cell3 |\n"
   ]
  }
 ],
 "metadata": {
  "kernelspec": {
   "display_name": "Python 3",
   "language": "python",
   "name": "python3"
  },
  "language_info": {
   "codemirror_mode": {
    "name": "ipython",
    "version": 3
   },
   "file_extension": ".py",
   "mimetype": "text/x-python",
   "name": "python",
   "nbconvert_exporter": "python",
   "pygments_lexer": "ipython3",
   "version": "3.12.3"
  }
 },
 "nbformat": 4,
 "nbformat_minor": 2
}
