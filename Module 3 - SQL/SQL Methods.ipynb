{
 "cells": [
  {
   "cell_type": "markdown",
   "metadata": {},
   "source": [
    "# **SQL METHODS**"
   ]
  },
  {
   "cell_type": "markdown",
   "metadata": {},
   "source": [
    "In SQL, methods refer to functions or procedures that perform specific tasks within your queries. They are like pre-defined tools that you can use to manipulate, analyze, or interact with your data in various ways."
   ]
  },
  {
   "cell_type": "markdown",
   "metadata": {},
   "source": [
    "## Setting Up SQL Environment in Jupyter Notebook"
   ]
  },
  {
   "cell_type": "code",
   "execution_count": 1,
   "metadata": {},
   "outputs": [],
   "source": [
    "# Enable SQL Extension\n",
    "%load_ext sql\n",
    "\n",
    "# Connect to the database\n",
    "%sql sqlite:///abc-corp.db"
   ]
  },
  {
   "cell_type": "markdown",
   "metadata": {},
   "source": [
    "### **SELECT**"
   ]
  },
  {
   "cell_type": "markdown",
   "metadata": {},
   "source": [
    "The SELECT statement in SQL retrieves data from one or more tables, allowing users to specify columns to fetch and apply filters, sorting, and aggregations to manipulate the data returned."
   ]
  },
  {
   "cell_type": "code",
   "execution_count": null,
   "metadata": {},
   "outputs": [],
   "source": [
    "%sql SELECT * FROM employees;"
   ]
  },
  {
   "cell_type": "markdown",
   "metadata": {},
   "source": [
    "## DISTINCT\n",
    "\n",
    "The **DISTINCT** keyword is used to return only distinct (unique) values in the result set of a query. It ensures that duplicate rows are removed from the output."
   ]
  },
  {
   "cell_type": "code",
   "execution_count": 5,
   "metadata": {},
   "outputs": [
    {
     "name": "stdout",
     "output_type": "stream",
     "text": [
      " * sqlite:///abc-corp.db\n",
      "Done.\n"
     ]
    },
    {
     "data": {
      "text/html": [
       "<table>\n",
       "    <thead>\n",
       "        <tr>\n",
       "            <th>department</th>\n",
       "        </tr>\n",
       "    </thead>\n",
       "    <tbody>\n",
       "        <tr>\n",
       "            <td>IT</td>\n",
       "        </tr>\n",
       "        <tr>\n",
       "            <td>Finance</td>\n",
       "        </tr>\n",
       "        <tr>\n",
       "            <td>HR</td>\n",
       "        </tr>\n",
       "        <tr>\n",
       "            <td>Marketing</td>\n",
       "        </tr>\n",
       "        <tr>\n",
       "            <td>Sales</td>\n",
       "        </tr>\n",
       "        <tr>\n",
       "            <td>Operations</td>\n",
       "        </tr>\n",
       "    </tbody>\n",
       "</table>"
      ],
      "text/plain": [
       "[('IT',), ('Finance',), ('HR',), ('Marketing',), ('Sales',), ('Operations',)]"
      ]
     },
     "execution_count": 5,
     "metadata": {},
     "output_type": "execute_result"
    }
   ],
   "source": [
    "%%sql\n",
    "SELECT DISTINCT department\n",
    "FROM employees;"
   ]
  },
  {
   "cell_type": "markdown",
   "metadata": {},
   "source": [
    "## LIMIT\n",
    "The **LIMIT** clause specifies the maximum number of rows to return in a query result.\n",
    "\n",
    "\n",
    "It's commonly used for:\n",
    "\n",
    "\n",
    "*   Pagination: Retrieving results in smaller chunks, often used in web applications to display data in pages.\n",
    "*   Performance optimization: Limiting the number of rows processed, especially for large datasets, can improve query speed."
   ]
  },
  {
   "cell_type": "code",
   "execution_count": 35,
   "metadata": {},
   "outputs": [
    {
     "name": "stdout",
     "output_type": "stream",
     "text": [
      " * sqlite:///abc-corp.db\n",
      "Done.\n"
     ]
    },
    {
     "data": {
      "text/html": [
       "<table>\n",
       "    <thead>\n",
       "        <tr>\n",
       "            <th>employee_id</th>\n",
       "            <th>first_name</th>\n",
       "            <th>last_name</th>\n",
       "            <th>department</th>\n",
       "            <th>salary</th>\n",
       "            <th>performance_rating</th>\n",
       "            <th>hire_date</th>\n",
       "        </tr>\n",
       "    </thead>\n",
       "    <tbody>\n",
       "        <tr>\n",
       "            <td>1</td>\n",
       "            <td>Jason</td>\n",
       "            <td>Zhu</td>\n",
       "            <td>IT</td>\n",
       "            <td>10000</td>\n",
       "            <td>5</td>\n",
       "            <td>2024-04-30</td>\n",
       "        </tr>\n",
       "        <tr>\n",
       "            <td>2</td>\n",
       "            <td>Lynn</td>\n",
       "            <td>Lin</td>\n",
       "            <td>IT</td>\n",
       "            <td>10000</td>\n",
       "            <td>5</td>\n",
       "            <td>2024-04-30</td>\n",
       "        </tr>\n",
       "        <tr>\n",
       "            <td>6</td>\n",
       "            <td>Linda</td>\n",
       "            <td>Martinez</td>\n",
       "            <td>IT</td>\n",
       "            <td>70000</td>\n",
       "            <td>4</td>\n",
       "            <td>2024-04-29</td>\n",
       "        </tr>\n",
       "        <tr>\n",
       "            <td>7</td>\n",
       "            <td>Robert</td>\n",
       "            <td>Anderson</td>\n",
       "            <td>Finance</td>\n",
       "            <td>65000</td>\n",
       "            <td>3</td>\n",
       "            <td>2024-04-30</td>\n",
       "        </tr>\n",
       "        <tr>\n",
       "            <td>8</td>\n",
       "            <td>Patricia</td>\n",
       "            <td>Taylor</td>\n",
       "            <td>HR</td>\n",
       "            <td>52000</td>\n",
       "            <td>5</td>\n",
       "            <td>2024-05-01</td>\n",
       "        </tr>\n",
       "    </tbody>\n",
       "</table>"
      ],
      "text/plain": [
       "[(1, 'Jason', 'Zhu', 'IT', 10000, 5, '2024-04-30'),\n",
       " (2, 'Lynn', 'Lin', 'IT', 10000, 5, '2024-04-30'),\n",
       " (6, 'Linda', 'Martinez', 'IT', 70000, 4, '2024-04-29'),\n",
       " (7, 'Robert', 'Anderson', 'Finance', 65000, 3, '2024-04-30'),\n",
       " (8, 'Patricia', 'Taylor', 'HR', 52000, 5, '2024-05-01')]"
      ]
     },
     "execution_count": 35,
     "metadata": {},
     "output_type": "execute_result"
    }
   ],
   "source": [
    "%%sql \n",
    "SELECT * \n",
    "FROM employees \n",
    "LIMIT 5;"
   ]
  },
  {
   "cell_type": "code",
   "execution_count": 37,
   "metadata": {},
   "outputs": [
    {
     "name": "stdout",
     "output_type": "stream",
     "text": [
      " * sqlite:///abc-corp.db\n",
      "Done.\n"
     ]
    },
    {
     "data": {
      "text/html": [
       "<table>\n",
       "    <thead>\n",
       "        <tr>\n",
       "            <th>employee_id</th>\n",
       "            <th>first_name</th>\n",
       "            <th>last_name</th>\n",
       "            <th>department</th>\n",
       "            <th>salary</th>\n",
       "            <th>performance_rating</th>\n",
       "            <th>hire_date</th>\n",
       "        </tr>\n",
       "    </thead>\n",
       "    <tbody>\n",
       "        <tr>\n",
       "            <td>2</td>\n",
       "            <td>Lynn</td>\n",
       "            <td>Lin</td>\n",
       "            <td>IT</td>\n",
       "            <td>10000</td>\n",
       "            <td>5</td>\n",
       "            <td>2024-04-30</td>\n",
       "        </tr>\n",
       "        <tr>\n",
       "            <td>6</td>\n",
       "            <td>Linda</td>\n",
       "            <td>Martinez</td>\n",
       "            <td>IT</td>\n",
       "            <td>70000</td>\n",
       "            <td>4</td>\n",
       "            <td>2024-04-29</td>\n",
       "        </tr>\n",
       "    </tbody>\n",
       "</table>"
      ],
      "text/plain": [
       "[(2, 'Lynn', 'Lin', 'IT', 10000, 5, '2024-04-30'),\n",
       " (6, 'Linda', 'Martinez', 'IT', 70000, 4, '2024-04-29')]"
      ]
     },
     "execution_count": 37,
     "metadata": {},
     "output_type": "execute_result"
    }
   ],
   "source": [
    "%%sql \n",
    "-- LIMIT(Starting offset, how many records to display)\n",
    "SELECT * FROM employees\n",
    "LIMIT 1,2;"
   ]
  },
  {
   "cell_type": "markdown",
   "metadata": {},
   "source": [
    "## COUNT\n",
    "\n",
    "The **COUNT** function is used to count the number of rows in a table or the number of rows matching a specific condition."
   ]
  },
  {
   "cell_type": "code",
   "execution_count": 19,
   "metadata": {},
   "outputs": [
    {
     "name": "stdout",
     "output_type": "stream",
     "text": [
      " * sqlite:///abc-corp.db\n",
      "Done.\n"
     ]
    },
    {
     "data": {
      "text/html": [
       "<table>\n",
       "    <thead>\n",
       "        <tr>\n",
       "            <th>COUNT(1)</th>\n",
       "        </tr>\n",
       "    </thead>\n",
       "    <tbody>\n",
       "        <tr>\n",
       "            <td>25</td>\n",
       "        </tr>\n",
       "    </tbody>\n",
       "</table>"
      ],
      "text/plain": [
       "[(25,)]"
      ]
     },
     "execution_count": 19,
     "metadata": {},
     "output_type": "execute_result"
    }
   ],
   "source": [
    "%%sql \n",
    "SELECT COUNT(1) \n",
    "FROM employees;"
   ]
  },
  {
   "cell_type": "code",
   "execution_count": 20,
   "metadata": {},
   "outputs": [
    {
     "name": "stdout",
     "output_type": "stream",
     "text": [
      " * sqlite:///abc-corp.db\n",
      "Done.\n"
     ]
    },
    {
     "data": {
      "text/html": [
       "<table>\n",
       "    <thead>\n",
       "        <tr>\n",
       "            <th>COUNT(DISTINCT department)</th>\n",
       "        </tr>\n",
       "    </thead>\n",
       "    <tbody>\n",
       "        <tr>\n",
       "            <td>6</td>\n",
       "        </tr>\n",
       "    </tbody>\n",
       "</table>"
      ],
      "text/plain": [
       "[(6,)]"
      ]
     },
     "execution_count": 20,
     "metadata": {},
     "output_type": "execute_result"
    }
   ],
   "source": [
    "%%sql\n",
    "SELECT COUNT(DISTINCT department)\n",
    "FROM employees;"
   ]
  },
  {
   "cell_type": "code",
   "execution_count": 24,
   "metadata": {},
   "outputs": [
    {
     "name": "stdout",
     "output_type": "stream",
     "text": [
      " * sqlite:///abc-corp.db\n",
      "Done.\n"
     ]
    },
    {
     "data": {
      "text/html": [
       "<table>\n",
       "    <thead>\n",
       "        <tr>\n",
       "            <th>COUNT(first_name)</th>\n",
       "        </tr>\n",
       "    </thead>\n",
       "    <tbody>\n",
       "        <tr>\n",
       "            <td>0</td>\n",
       "        </tr>\n",
       "    </tbody>\n",
       "</table>"
      ],
      "text/plain": [
       "[(0,)]"
      ]
     },
     "execution_count": 24,
     "metadata": {},
     "output_type": "execute_result"
    }
   ],
   "source": [
    "%%sql \n",
    "SELECT COUNT(first_name) \n",
    "FROM employees\n",
    "WHERE first_name=\"Jane\";"
   ]
  },
  {
   "cell_type": "markdown",
   "metadata": {},
   "source": [
    "## WHERE\n",
    "\n",
    "The **WHERE** clause is used to filter data retrieved from a database based on specific conditions.\n",
    "\n",
    "It allows you to narrow down your results to only include rows that meet certain criteria."
   ]
  },
  {
   "cell_type": "markdown",
   "metadata": {},
   "source": [
    "### Comparison Operators:\n",
    "#### `=:` Equal to"
   ]
  },
  {
   "cell_type": "code",
   "execution_count": 26,
   "metadata": {},
   "outputs": [
    {
     "name": "stdout",
     "output_type": "stream",
     "text": [
      " * sqlite:///abc-corp.db\n",
      "Done.\n"
     ]
    },
    {
     "data": {
      "text/html": [
       "<table>\n",
       "    <thead>\n",
       "        <tr>\n",
       "            <th>employee_id</th>\n",
       "            <th>first_name</th>\n",
       "            <th>last_name</th>\n",
       "            <th>department</th>\n",
       "            <th>salary</th>\n",
       "            <th>performance_rating</th>\n",
       "            <th>hire_date</th>\n",
       "        </tr>\n",
       "    </thead>\n",
       "    <tbody>\n",
       "        <tr>\n",
       "            <td>10</td>\n",
       "            <td>Jennifer</td>\n",
       "            <td>Lee</td>\n",
       "            <td>Sales</td>\n",
       "            <td>63000</td>\n",
       "            <td>3</td>\n",
       "            <td>2024-05-03</td>\n",
       "        </tr>\n",
       "        <tr>\n",
       "            <td>15</td>\n",
       "            <td>Paul</td>\n",
       "            <td>Walker</td>\n",
       "            <td>Sales</td>\n",
       "            <td>61000</td>\n",
       "            <td>3</td>\n",
       "            <td>2024-05-08</td>\n",
       "        </tr>\n",
       "        <tr>\n",
       "            <td>27</td>\n",
       "            <td>Kenneth</td>\n",
       "            <td>Carter</td>\n",
       "            <td>Sales</td>\n",
       "            <td>64000</td>\n",
       "            <td>3</td>\n",
       "            <td>2024-05-20</td>\n",
       "        </tr>\n",
       "    </tbody>\n",
       "</table>"
      ],
      "text/plain": [
       "[(10, 'Jennifer', 'Lee', 'Sales', 63000, 3, '2024-05-03'),\n",
       " (15, 'Paul', 'Walker', 'Sales', 61000, 3, '2024-05-08'),\n",
       " (27, 'Kenneth', 'Carter', 'Sales', 64000, 3, '2024-05-20')]"
      ]
     },
     "execution_count": 26,
     "metadata": {},
     "output_type": "execute_result"
    }
   ],
   "source": [
    "%%sql \n",
    "SELECT * \n",
    "FROM employees\n",
    "WHERE performance_rating=3\n",
    "    AND department in('Sales','Marketing')"
   ]
  },
  {
   "cell_type": "markdown",
   "metadata": {},
   "source": [
    "#### `!=` : Not equal to"
   ]
  },
  {
   "cell_type": "code",
   "execution_count": 30,
   "metadata": {},
   "outputs": [
    {
     "name": "stdout",
     "output_type": "stream",
     "text": [
      " * sqlite:///abc-corp.db\n",
      "Done.\n",
      "Done.\n"
     ]
    },
    {
     "data": {
      "text/html": [
       "<table>\n",
       "    <thead>\n",
       "        <tr>\n",
       "            <th>employee_id</th>\n",
       "            <th>first_name</th>\n",
       "            <th>last_name</th>\n",
       "            <th>department</th>\n",
       "            <th>salary</th>\n",
       "            <th>performance_rating</th>\n",
       "            <th>hire_date</th>\n",
       "        </tr>\n",
       "    </thead>\n",
       "    <tbody>\n",
       "        <tr>\n",
       "            <td>7</td>\n",
       "            <td>Robert</td>\n",
       "            <td>Anderson</td>\n",
       "            <td>Finance</td>\n",
       "            <td>65000</td>\n",
       "            <td>3</td>\n",
       "            <td>2024-04-30</td>\n",
       "        </tr>\n",
       "        <tr>\n",
       "            <td>13</td>\n",
       "            <td>Daniel</td>\n",
       "            <td>Clark</td>\n",
       "            <td>Finance</td>\n",
       "            <td>64000</td>\n",
       "            <td>5</td>\n",
       "            <td>2024-05-06</td>\n",
       "        </tr>\n",
       "        <tr>\n",
       "            <td>18</td>\n",
       "            <td>Elizabeth</td>\n",
       "            <td>Young</td>\n",
       "            <td>Finance</td>\n",
       "            <td>62000</td>\n",
       "            <td>2</td>\n",
       "            <td>2024-05-11</td>\n",
       "        </tr>\n",
       "        <tr>\n",
       "            <td>23</td>\n",
       "            <td>Anthony</td>\n",
       "            <td>Scott</td>\n",
       "            <td>Finance</td>\n",
       "            <td>66000</td>\n",
       "            <td>3</td>\n",
       "            <td>2024-05-16</td>\n",
       "        </tr>\n",
       "        <tr>\n",
       "            <td>29</td>\n",
       "            <td>Ronald</td>\n",
       "            <td>Perez</td>\n",
       "            <td>Finance</td>\n",
       "            <td>67000</td>\n",
       "            <td>5</td>\n",
       "            <td>2024-05-22</td>\n",
       "        </tr>\n",
       "    </tbody>\n",
       "</table>"
      ],
      "text/plain": [
       "[(7, 'Robert', 'Anderson', 'Finance', 65000, 3, '2024-04-30'),\n",
       " (13, 'Daniel', 'Clark', 'Finance', 64000, 5, '2024-05-06'),\n",
       " (18, 'Elizabeth', 'Young', 'Finance', 62000, 2, '2024-05-11'),\n",
       " (23, 'Anthony', 'Scott', 'Finance', 66000, 3, '2024-05-16'),\n",
       " (29, 'Ronald', 'Perez', 'Finance', 67000, 5, '2024-05-22')]"
      ]
     },
     "execution_count": 30,
     "metadata": {},
     "output_type": "execute_result"
    }
   ],
   "source": [
    "%%sql\n",
    "SELECT * FROM employees\n",
    "WHERE department != 'Finance';\n"
   ]
  },
  {
   "cell_type": "markdown",
   "metadata": {},
   "source": [
    "#### `<` : Less than"
   ]
  },
  {
   "cell_type": "code",
   "execution_count": null,
   "metadata": {},
   "outputs": [],
   "source": [
    "%%sql\n",
    "SELECT * FROM employees\n",
    "WHERE performance_rating<3;"
   ]
  },
  {
   "cell_type": "markdown",
   "metadata": {},
   "source": [
    "#### `>` : Greater than"
   ]
  },
  {
   "cell_type": "code",
   "execution_count": null,
   "metadata": {},
   "outputs": [],
   "source": [
    "%%sql\n",
    "SELECT * FROM employees\n",
    "WHERE performance_rating>3;"
   ]
  },
  {
   "cell_type": "markdown",
   "metadata": {},
   "source": [
    "#### `<=` : Less than or equal to"
   ]
  },
  {
   "cell_type": "code",
   "execution_count": null,
   "metadata": {},
   "outputs": [],
   "source": [
    "%%sql\n",
    "SELECT * FROM employees\n",
    "WHERE performance_rating<=3;"
   ]
  },
  {
   "cell_type": "markdown",
   "metadata": {},
   "source": [
    "#### `>=` : Greater than or equal to"
   ]
  },
  {
   "cell_type": "code",
   "execution_count": null,
   "metadata": {},
   "outputs": [],
   "source": [
    "%%sql\n",
    "SELECT * FROM employees\n",
    "WHERE performance_rating>=3;"
   ]
  },
  {
   "cell_type": "markdown",
   "metadata": {},
   "source": [
    "### Logical Operators:\n",
    "#### AND: Used to combine multiple conditions where both must be true."
   ]
  },
  {
   "cell_type": "code",
   "execution_count": 34,
   "metadata": {},
   "outputs": [
    {
     "name": "stdout",
     "output_type": "stream",
     "text": [
      " * sqlite:///abc-corp.db\n",
      "Done.\n"
     ]
    },
    {
     "data": {
      "text/html": [
       "<table>\n",
       "    <thead>\n",
       "        <tr>\n",
       "            <th>employee_id</th>\n",
       "            <th>first_name</th>\n",
       "            <th>last_name</th>\n",
       "            <th>department</th>\n",
       "            <th>salary</th>\n",
       "            <th>performance_rating</th>\n",
       "            <th>hire_date</th>\n",
       "        </tr>\n",
       "    </thead>\n",
       "    <tbody>\n",
       "        <tr>\n",
       "            <td>21</td>\n",
       "            <td>Brian</td>\n",
       "            <td>Lopez</td>\n",
       "            <td>Sales</td>\n",
       "            <td>62000</td>\n",
       "            <td>5</td>\n",
       "            <td>2024-05-14</td>\n",
       "        </tr>\n",
       "    </tbody>\n",
       "</table>"
      ],
      "text/plain": [
       "[(21, 'Brian', 'Lopez', 'Sales', 62000, 5, '2024-05-14')]"
      ]
     },
     "execution_count": 34,
     "metadata": {},
     "output_type": "execute_result"
    }
   ],
   "source": [
    "%%sql\n",
    "SELECT * FROM employees\n",
    "WHERE department='Sales'\n",
    " AND performance_rating>3;"
   ]
  },
  {
   "cell_type": "markdown",
   "metadata": {},
   "source": [
    "#### OR: Used to combine multiple conditions where at least one must be true."
   ]
  },
  {
   "cell_type": "code",
   "execution_count": 38,
   "metadata": {},
   "outputs": [
    {
     "name": "stdout",
     "output_type": "stream",
     "text": [
      " * sqlite:///abc-corp.db\n",
      "Done.\n"
     ]
    },
    {
     "data": {
      "text/html": [
       "<table>\n",
       "    <thead>\n",
       "        <tr>\n",
       "            <th>employee_id</th>\n",
       "            <th>first_name</th>\n",
       "            <th>last_name</th>\n",
       "            <th>department</th>\n",
       "            <th>salary</th>\n",
       "            <th>performance_rating</th>\n",
       "            <th>hire_date</th>\n",
       "        </tr>\n",
       "    </thead>\n",
       "    <tbody>\n",
       "        <tr>\n",
       "            <td>9</td>\n",
       "            <td>Christopher</td>\n",
       "            <td>Thomas</td>\n",
       "            <td>Marketing</td>\n",
       "            <td>59000</td>\n",
       "            <td>2</td>\n",
       "            <td>2024-05-02</td>\n",
       "        </tr>\n",
       "        <tr>\n",
       "            <td>11</td>\n",
       "            <td>James</td>\n",
       "            <td>White</td>\n",
       "            <td>Operations</td>\n",
       "            <td>56000</td>\n",
       "            <td>4</td>\n",
       "            <td>2024-05-04</td>\n",
       "        </tr>\n",
       "        <tr>\n",
       "            <td>16</td>\n",
       "            <td>Karen</td>\n",
       "            <td>Hall</td>\n",
       "            <td>Marketing</td>\n",
       "            <td>60000</td>\n",
       "            <td>4</td>\n",
       "            <td>2024-05-09</td>\n",
       "        </tr>\n",
       "        <tr>\n",
       "            <td>19</td>\n",
       "            <td>George</td>\n",
       "            <td>King</td>\n",
       "            <td>Operations</td>\n",
       "            <td>57000</td>\n",
       "            <td>3</td>\n",
       "            <td>2024-05-12</td>\n",
       "        </tr>\n",
       "        <tr>\n",
       "            <td>24</td>\n",
       "            <td>Deborah</td>\n",
       "            <td>Green</td>\n",
       "            <td>Marketing</td>\n",
       "            <td>63000</td>\n",
       "            <td>4</td>\n",
       "            <td>2024-05-17</td>\n",
       "        </tr>\n",
       "        <tr>\n",
       "            <td>25</td>\n",
       "            <td>Larry</td>\n",
       "            <td>Adams</td>\n",
       "            <td>Operations</td>\n",
       "            <td>58000</td>\n",
       "            <td>5</td>\n",
       "            <td>2024-05-18</td>\n",
       "        </tr>\n",
       "        <tr>\n",
       "            <td>30</td>\n",
       "            <td>Laura</td>\n",
       "            <td>Roberts</td>\n",
       "            <td>Marketing</td>\n",
       "            <td>65000</td>\n",
       "            <td>2</td>\n",
       "            <td>2024-05-23</td>\n",
       "        </tr>\n",
       "    </tbody>\n",
       "</table>"
      ],
      "text/plain": [
       "[(9, 'Christopher', 'Thomas', 'Marketing', 59000, 2, '2024-05-02'),\n",
       " (11, 'James', 'White', 'Operations', 56000, 4, '2024-05-04'),\n",
       " (16, 'Karen', 'Hall', 'Marketing', 60000, 4, '2024-05-09'),\n",
       " (19, 'George', 'King', 'Operations', 57000, 3, '2024-05-12'),\n",
       " (24, 'Deborah', 'Green', 'Marketing', 63000, 4, '2024-05-17'),\n",
       " (25, 'Larry', 'Adams', 'Operations', 58000, 5, '2024-05-18'),\n",
       " (30, 'Laura', 'Roberts', 'Marketing', 65000, 2, '2024-05-23')]"
      ]
     },
     "execution_count": 38,
     "metadata": {},
     "output_type": "execute_result"
    }
   ],
   "source": [
    "%%sql\n",
    "SELECT * FROM employees\n",
    "WHERE department = 'Operations' OR department = 'Marketing'"
   ]
  },
  {
   "cell_type": "markdown",
   "metadata": {},
   "source": [
    "#### NOT: Used to negate a condition."
   ]
  },
  {
   "cell_type": "code",
   "execution_count": 40,
   "metadata": {},
   "outputs": [
    {
     "name": "stdout",
     "output_type": "stream",
     "text": [
      " * sqlite:///abc-corp.db\n",
      "Done.\n"
     ]
    },
    {
     "data": {
      "text/html": [
       "<table>\n",
       "    <thead>\n",
       "        <tr>\n",
       "            <th>employee_id</th>\n",
       "            <th>first_name</th>\n",
       "            <th>last_name</th>\n",
       "            <th>department</th>\n",
       "            <th>salary</th>\n",
       "            <th>performance_rating</th>\n",
       "            <th>hire_date</th>\n",
       "        </tr>\n",
       "    </thead>\n",
       "    <tbody>\n",
       "        <tr>\n",
       "            <td>1</td>\n",
       "            <td>Jason</td>\n",
       "            <td>Zhu</td>\n",
       "            <td>IT</td>\n",
       "            <td>10000</td>\n",
       "            <td>5</td>\n",
       "            <td>2024-04-30</td>\n",
       "        </tr>\n",
       "        <tr>\n",
       "            <td>2</td>\n",
       "            <td>Lynn</td>\n",
       "            <td>Lin</td>\n",
       "            <td>IT</td>\n",
       "            <td>10000</td>\n",
       "            <td>5</td>\n",
       "            <td>2024-04-30</td>\n",
       "        </tr>\n",
       "        <tr>\n",
       "            <td>6</td>\n",
       "            <td>Linda</td>\n",
       "            <td>Martinez</td>\n",
       "            <td>IT</td>\n",
       "            <td>70000</td>\n",
       "            <td>4</td>\n",
       "            <td>2024-04-29</td>\n",
       "        </tr>\n",
       "        <tr>\n",
       "            <td>8</td>\n",
       "            <td>Patricia</td>\n",
       "            <td>Taylor</td>\n",
       "            <td>HR</td>\n",
       "            <td>52000</td>\n",
       "            <td>5</td>\n",
       "            <td>2024-05-01</td>\n",
       "        </tr>\n",
       "        <tr>\n",
       "            <td>10</td>\n",
       "            <td>Jennifer</td>\n",
       "            <td>Lee</td>\n",
       "            <td>Sales</td>\n",
       "            <td>63000</td>\n",
       "            <td>3</td>\n",
       "            <td>2024-05-03</td>\n",
       "        </tr>\n",
       "        <tr>\n",
       "            <td>11</td>\n",
       "            <td>James</td>\n",
       "            <td>White</td>\n",
       "            <td>Operations</td>\n",
       "            <td>56000</td>\n",
       "            <td>4</td>\n",
       "            <td>2024-05-04</td>\n",
       "        </tr>\n",
       "        <tr>\n",
       "            <td>12</td>\n",
       "            <td>Barbara</td>\n",
       "            <td>Harris</td>\n",
       "            <td>IT</td>\n",
       "            <td>68000</td>\n",
       "            <td>1</td>\n",
       "            <td>2024-05-05</td>\n",
       "        </tr>\n",
       "        <tr>\n",
       "            <td>14</td>\n",
       "            <td>Nancy</td>\n",
       "            <td>Lewis</td>\n",
       "            <td>HR</td>\n",
       "            <td>53000</td>\n",
       "            <td>2</td>\n",
       "            <td>2024-05-07</td>\n",
       "        </tr>\n",
       "        <tr>\n",
       "            <td>15</td>\n",
       "            <td>Paul</td>\n",
       "            <td>Walker</td>\n",
       "            <td>Sales</td>\n",
       "            <td>61000</td>\n",
       "            <td>3</td>\n",
       "            <td>2024-05-08</td>\n",
       "        </tr>\n",
       "        <tr>\n",
       "            <td>17</td>\n",
       "            <td>Steven</td>\n",
       "            <td>Allen</td>\n",
       "            <td>IT</td>\n",
       "            <td>69000</td>\n",
       "            <td>5</td>\n",
       "            <td>2024-05-10</td>\n",
       "        </tr>\n",
       "        <tr>\n",
       "            <td>19</td>\n",
       "            <td>George</td>\n",
       "            <td>King</td>\n",
       "            <td>Operations</td>\n",
       "            <td>57000</td>\n",
       "            <td>3</td>\n",
       "            <td>2024-05-12</td>\n",
       "        </tr>\n",
       "        <tr>\n",
       "            <td>20</td>\n",
       "            <td>Mary</td>\n",
       "            <td>Wright</td>\n",
       "            <td>HR</td>\n",
       "            <td>54000</td>\n",
       "            <td>4</td>\n",
       "            <td>2024-05-13</td>\n",
       "        </tr>\n",
       "        <tr>\n",
       "            <td>21</td>\n",
       "            <td>Brian</td>\n",
       "            <td>Lopez</td>\n",
       "            <td>Sales</td>\n",
       "            <td>62000</td>\n",
       "            <td>5</td>\n",
       "            <td>2024-05-14</td>\n",
       "        </tr>\n",
       "        <tr>\n",
       "            <td>22</td>\n",
       "            <td>Megan</td>\n",
       "            <td>Hill</td>\n",
       "            <td>IT</td>\n",
       "            <td>71000</td>\n",
       "            <td>2</td>\n",
       "            <td>2024-05-15</td>\n",
       "        </tr>\n",
       "        <tr>\n",
       "            <td>25</td>\n",
       "            <td>Larry</td>\n",
       "            <td>Adams</td>\n",
       "            <td>Operations</td>\n",
       "            <td>58000</td>\n",
       "            <td>5</td>\n",
       "            <td>2024-05-18</td>\n",
       "        </tr>\n",
       "        <tr>\n",
       "            <td>26</td>\n",
       "            <td>Sarah</td>\n",
       "            <td>Nelson</td>\n",
       "            <td>HR</td>\n",
       "            <td>55000</td>\n",
       "            <td>2</td>\n",
       "            <td>2024-05-19</td>\n",
       "        </tr>\n",
       "        <tr>\n",
       "            <td>27</td>\n",
       "            <td>Kenneth</td>\n",
       "            <td>Carter</td>\n",
       "            <td>Sales</td>\n",
       "            <td>64000</td>\n",
       "            <td>3</td>\n",
       "            <td>2024-05-20</td>\n",
       "        </tr>\n",
       "        <tr>\n",
       "            <td>28</td>\n",
       "            <td>Betty</td>\n",
       "            <td>Mitchell</td>\n",
       "            <td>IT</td>\n",
       "            <td>72000</td>\n",
       "            <td>4</td>\n",
       "            <td>2024-05-21</td>\n",
       "        </tr>\n",
       "    </tbody>\n",
       "</table>"
      ],
      "text/plain": [
       "[(1, 'Jason', 'Zhu', 'IT', 10000, 5, '2024-04-30'),\n",
       " (2, 'Lynn', 'Lin', 'IT', 10000, 5, '2024-04-30'),\n",
       " (6, 'Linda', 'Martinez', 'IT', 70000, 4, '2024-04-29'),\n",
       " (8, 'Patricia', 'Taylor', 'HR', 52000, 5, '2024-05-01'),\n",
       " (10, 'Jennifer', 'Lee', 'Sales', 63000, 3, '2024-05-03'),\n",
       " (11, 'James', 'White', 'Operations', 56000, 4, '2024-05-04'),\n",
       " (12, 'Barbara', 'Harris', 'IT', 68000, 1, '2024-05-05'),\n",
       " (14, 'Nancy', 'Lewis', 'HR', 53000, 2, '2024-05-07'),\n",
       " (15, 'Paul', 'Walker', 'Sales', 61000, 3, '2024-05-08'),\n",
       " (17, 'Steven', 'Allen', 'IT', 69000, 5, '2024-05-10'),\n",
       " (19, 'George', 'King', 'Operations', 57000, 3, '2024-05-12'),\n",
       " (20, 'Mary', 'Wright', 'HR', 54000, 4, '2024-05-13'),\n",
       " (21, 'Brian', 'Lopez', 'Sales', 62000, 5, '2024-05-14'),\n",
       " (22, 'Megan', 'Hill', 'IT', 71000, 2, '2024-05-15'),\n",
       " (25, 'Larry', 'Adams', 'Operations', 58000, 5, '2024-05-18'),\n",
       " (26, 'Sarah', 'Nelson', 'HR', 55000, 2, '2024-05-19'),\n",
       " (27, 'Kenneth', 'Carter', 'Sales', 64000, 3, '2024-05-20'),\n",
       " (28, 'Betty', 'Mitchell', 'IT', 72000, 4, '2024-05-21')]"
      ]
     },
     "execution_count": 40,
     "metadata": {},
     "output_type": "execute_result"
    }
   ],
   "source": [
    "%%sql\n",
    "SELECT * FROM employees\n",
    "WHERE NOT department = 'Marketing' AND NOT department = 'Finance'"
   ]
  },
  {
   "cell_type": "markdown",
   "metadata": {},
   "source": [
    "### Special Operators:\n",
    "#### BETWEEN: Checks if a value falls within a specified range."
   ]
  },
  {
   "cell_type": "code",
   "execution_count": 41,
   "metadata": {},
   "outputs": [
    {
     "name": "stdout",
     "output_type": "stream",
     "text": [
      " * sqlite:///abc-corp.db\n",
      "Done.\n"
     ]
    },
    {
     "data": {
      "text/html": [
       "<table>\n",
       "    <thead>\n",
       "        <tr>\n",
       "            <th>employee_id</th>\n",
       "            <th>first_name</th>\n",
       "            <th>last_name</th>\n",
       "            <th>department</th>\n",
       "            <th>salary</th>\n",
       "            <th>performance_rating</th>\n",
       "            <th>hire_date</th>\n",
       "        </tr>\n",
       "    </thead>\n",
       "    <tbody>\n",
       "        <tr>\n",
       "            <td>7</td>\n",
       "            <td>Robert</td>\n",
       "            <td>Anderson</td>\n",
       "            <td>Finance</td>\n",
       "            <td>65000</td>\n",
       "            <td>3</td>\n",
       "            <td>2024-04-30</td>\n",
       "        </tr>\n",
       "        <tr>\n",
       "            <td>10</td>\n",
       "            <td>Jennifer</td>\n",
       "            <td>Lee</td>\n",
       "            <td>Sales</td>\n",
       "            <td>63000</td>\n",
       "            <td>3</td>\n",
       "            <td>2024-05-03</td>\n",
       "        </tr>\n",
       "        <tr>\n",
       "            <td>13</td>\n",
       "            <td>Daniel</td>\n",
       "            <td>Clark</td>\n",
       "            <td>Finance</td>\n",
       "            <td>64000</td>\n",
       "            <td>5</td>\n",
       "            <td>2024-05-06</td>\n",
       "        </tr>\n",
       "        <tr>\n",
       "            <td>15</td>\n",
       "            <td>Paul</td>\n",
       "            <td>Walker</td>\n",
       "            <td>Sales</td>\n",
       "            <td>61000</td>\n",
       "            <td>3</td>\n",
       "            <td>2024-05-08</td>\n",
       "        </tr>\n",
       "        <tr>\n",
       "            <td>16</td>\n",
       "            <td>Karen</td>\n",
       "            <td>Hall</td>\n",
       "            <td>Marketing</td>\n",
       "            <td>60000</td>\n",
       "            <td>4</td>\n",
       "            <td>2024-05-09</td>\n",
       "        </tr>\n",
       "        <tr>\n",
       "            <td>18</td>\n",
       "            <td>Elizabeth</td>\n",
       "            <td>Young</td>\n",
       "            <td>Finance</td>\n",
       "            <td>62000</td>\n",
       "            <td>2</td>\n",
       "            <td>2024-05-11</td>\n",
       "        </tr>\n",
       "        <tr>\n",
       "            <td>21</td>\n",
       "            <td>Brian</td>\n",
       "            <td>Lopez</td>\n",
       "            <td>Sales</td>\n",
       "            <td>62000</td>\n",
       "            <td>5</td>\n",
       "            <td>2024-05-14</td>\n",
       "        </tr>\n",
       "        <tr>\n",
       "            <td>24</td>\n",
       "            <td>Deborah</td>\n",
       "            <td>Green</td>\n",
       "            <td>Marketing</td>\n",
       "            <td>63000</td>\n",
       "            <td>4</td>\n",
       "            <td>2024-05-17</td>\n",
       "        </tr>\n",
       "        <tr>\n",
       "            <td>27</td>\n",
       "            <td>Kenneth</td>\n",
       "            <td>Carter</td>\n",
       "            <td>Sales</td>\n",
       "            <td>64000</td>\n",
       "            <td>3</td>\n",
       "            <td>2024-05-20</td>\n",
       "        </tr>\n",
       "        <tr>\n",
       "            <td>30</td>\n",
       "            <td>Laura</td>\n",
       "            <td>Roberts</td>\n",
       "            <td>Marketing</td>\n",
       "            <td>65000</td>\n",
       "            <td>2</td>\n",
       "            <td>2024-05-23</td>\n",
       "        </tr>\n",
       "    </tbody>\n",
       "</table>"
      ],
      "text/plain": [
       "[(7, 'Robert', 'Anderson', 'Finance', 65000, 3, '2024-04-30'),\n",
       " (10, 'Jennifer', 'Lee', 'Sales', 63000, 3, '2024-05-03'),\n",
       " (13, 'Daniel', 'Clark', 'Finance', 64000, 5, '2024-05-06'),\n",
       " (15, 'Paul', 'Walker', 'Sales', 61000, 3, '2024-05-08'),\n",
       " (16, 'Karen', 'Hall', 'Marketing', 60000, 4, '2024-05-09'),\n",
       " (18, 'Elizabeth', 'Young', 'Finance', 62000, 2, '2024-05-11'),\n",
       " (21, 'Brian', 'Lopez', 'Sales', 62000, 5, '2024-05-14'),\n",
       " (24, 'Deborah', 'Green', 'Marketing', 63000, 4, '2024-05-17'),\n",
       " (27, 'Kenneth', 'Carter', 'Sales', 64000, 3, '2024-05-20'),\n",
       " (30, 'Laura', 'Roberts', 'Marketing', 65000, 2, '2024-05-23')]"
      ]
     },
     "execution_count": 41,
     "metadata": {},
     "output_type": "execute_result"
    }
   ],
   "source": [
    "%%sql\n",
    "SELECT * FROM employees\n",
    "WHERE salary BETWEEN 60000 and 65000;"
   ]
  },
  {
   "cell_type": "markdown",
   "metadata": {},
   "source": [
    "#### IN: Checks if a value belongs to a set of values.\n",
    "similar to `=` but it will allow you to select multiple values."
   ]
  },
  {
   "cell_type": "code",
   "execution_count": 42,
   "metadata": {},
   "outputs": [
    {
     "name": "stdout",
     "output_type": "stream",
     "text": [
      " * sqlite:///abc-corp.db\n",
      "Done.\n"
     ]
    },
    {
     "data": {
      "text/html": [
       "<table>\n",
       "    <thead>\n",
       "        <tr>\n",
       "            <th>employee_id</th>\n",
       "            <th>first_name</th>\n",
       "            <th>last_name</th>\n",
       "            <th>department</th>\n",
       "            <th>salary</th>\n",
       "            <th>performance_rating</th>\n",
       "            <th>hire_date</th>\n",
       "        </tr>\n",
       "    </thead>\n",
       "    <tbody>\n",
       "        <tr>\n",
       "            <td>1</td>\n",
       "            <td>Jason</td>\n",
       "            <td>Zhu</td>\n",
       "            <td>IT</td>\n",
       "            <td>10000</td>\n",
       "            <td>5</td>\n",
       "            <td>2024-04-30</td>\n",
       "        </tr>\n",
       "        <tr>\n",
       "            <td>2</td>\n",
       "            <td>Lynn</td>\n",
       "            <td>Lin</td>\n",
       "            <td>IT</td>\n",
       "            <td>10000</td>\n",
       "            <td>5</td>\n",
       "            <td>2024-04-30</td>\n",
       "        </tr>\n",
       "    </tbody>\n",
       "</table>"
      ],
      "text/plain": [
       "[(1, 'Jason', 'Zhu', 'IT', 10000, 5, '2024-04-30'),\n",
       " (2, 'Lynn', 'Lin', 'IT', 10000, 5, '2024-04-30')]"
      ]
     },
     "execution_count": 42,
     "metadata": {},
     "output_type": "execute_result"
    }
   ],
   "source": [
    "%%sql\n",
    "SELECT * FROM employees\n",
    "WHERE first_name IN('Jason','Lynn')"
   ]
  },
  {
   "cell_type": "markdown",
   "metadata": {},
   "source": [
    "#### LIKE: Used for pattern matching with wildcards."
   ]
  },
  {
   "cell_type": "code",
   "execution_count": 44,
   "metadata": {},
   "outputs": [
    {
     "name": "stdout",
     "output_type": "stream",
     "text": [
      " * sqlite:///abc-corp.db\n",
      "Done.\n"
     ]
    },
    {
     "data": {
      "text/html": [
       "<table>\n",
       "    <thead>\n",
       "        <tr>\n",
       "            <th>employee_id</th>\n",
       "            <th>first_name</th>\n",
       "            <th>last_name</th>\n",
       "            <th>department</th>\n",
       "            <th>salary</th>\n",
       "            <th>performance_rating</th>\n",
       "            <th>hire_date</th>\n",
       "        </tr>\n",
       "    </thead>\n",
       "    <tbody>\n",
       "        <tr>\n",
       "            <td>7</td>\n",
       "            <td>Robert</td>\n",
       "            <td>Anderson</td>\n",
       "            <td>Finance</td>\n",
       "            <td>65000</td>\n",
       "            <td>3</td>\n",
       "            <td>2024-04-30</td>\n",
       "        </tr>\n",
       "        <tr>\n",
       "            <td>26</td>\n",
       "            <td>Sarah</td>\n",
       "            <td>Nelson</td>\n",
       "            <td>HR</td>\n",
       "            <td>55000</td>\n",
       "            <td>2</td>\n",
       "            <td>2024-05-19</td>\n",
       "        </tr>\n",
       "    </tbody>\n",
       "</table>"
      ],
      "text/plain": [
       "[(7, 'Robert', 'Anderson', 'Finance', 65000, 3, '2024-04-30'),\n",
       " (26, 'Sarah', 'Nelson', 'HR', 55000, 2, '2024-05-19')]"
      ]
     },
     "execution_count": 44,
     "metadata": {},
     "output_type": "execute_result"
    }
   ],
   "source": [
    "%%sql\n",
    "SELECT * FROM employees\n",
    "WHERE last_name like '%son'"
   ]
  },
  {
   "cell_type": "code",
   "execution_count": 47,
   "metadata": {},
   "outputs": [
    {
     "name": "stdout",
     "output_type": "stream",
     "text": [
      " * sqlite:///abc-corp.db\n",
      "Done.\n"
     ]
    },
    {
     "data": {
      "text/html": [
       "<table>\n",
       "    <thead>\n",
       "        <tr>\n",
       "            <th>employee_id</th>\n",
       "            <th>first_name</th>\n",
       "            <th>last_name</th>\n",
       "            <th>department</th>\n",
       "            <th>salary</th>\n",
       "            <th>performance_rating</th>\n",
       "            <th>hire_date</th>\n",
       "        </tr>\n",
       "    </thead>\n",
       "    <tbody>\n",
       "        <tr>\n",
       "            <td>1</td>\n",
       "            <td>Jason</td>\n",
       "            <td>Zhu</td>\n",
       "            <td>IT</td>\n",
       "            <td>10000</td>\n",
       "            <td>5</td>\n",
       "            <td>2024-04-30</td>\n",
       "        </tr>\n",
       "    </tbody>\n",
       "</table>"
      ],
      "text/plain": [
       "[(1, 'Jason', 'Zhu', 'IT', 10000, 5, '2024-04-30')]"
      ]
     },
     "execution_count": 47,
     "metadata": {},
     "output_type": "execute_result"
    }
   ],
   "source": [
    "%%sql\n",
    "SELECT * FROM employees\n",
    "WHERE first_name like 'j_son'"
   ]
  },
  {
   "cell_type": "code",
   "execution_count": 49,
   "metadata": {},
   "outputs": [
    {
     "name": "stdout",
     "output_type": "stream",
     "text": [
      " * sqlite:///abc-corp.db\n",
      "Done.\n"
     ]
    },
    {
     "data": {
      "text/html": [
       "<table>\n",
       "    <thead>\n",
       "        <tr>\n",
       "            <th>employee_id</th>\n",
       "            <th>first_name</th>\n",
       "            <th>last_name</th>\n",
       "            <th>department</th>\n",
       "            <th>salary</th>\n",
       "            <th>performance_rating</th>\n",
       "            <th>hire_date</th>\n",
       "        </tr>\n",
       "    </thead>\n",
       "    <tbody>\n",
       "        <tr>\n",
       "            <td>1</td>\n",
       "            <td>Jason</td>\n",
       "            <td>Zhu</td>\n",
       "            <td>IT</td>\n",
       "            <td>10000</td>\n",
       "            <td>5</td>\n",
       "            <td>2024-04-30</td>\n",
       "        </tr>\n",
       "    </tbody>\n",
       "</table>"
      ],
      "text/plain": [
       "[(1, 'Jason', 'Zhu', 'IT', 10000, 5, '2024-04-30')]"
      ]
     },
     "execution_count": 49,
     "metadata": {},
     "output_type": "execute_result"
    }
   ],
   "source": [
    "%%sql\n",
    "SELECT * FROM employees\n",
    "WHERE first_name = 'Jason'"
   ]
  },
  {
   "cell_type": "markdown",
   "metadata": {},
   "source": [
    "## ORDER BY\n",
    "\n",
    "The **ORDER BY** clause allows you to sort the results of your SELECT queries in either ascending or descending order. It lets you sort the retrieved data based on one or more columns, making it easier to analyze and interpret."
   ]
  },
  {
   "cell_type": "markdown",
   "metadata": {},
   "source": [
    "**ASC:** Ascending order (lowest to highest)."
   ]
  },
  {
   "cell_type": "code",
   "execution_count": 50,
   "metadata": {},
   "outputs": [
    {
     "name": "stdout",
     "output_type": "stream",
     "text": [
      " * sqlite:///abc-corp.db\n",
      "Done.\n"
     ]
    },
    {
     "data": {
      "text/html": [
       "<table>\n",
       "    <thead>\n",
       "        <tr>\n",
       "            <th>employee_id</th>\n",
       "            <th>first_name</th>\n",
       "            <th>last_name</th>\n",
       "            <th>department</th>\n",
       "            <th>salary</th>\n",
       "            <th>performance_rating</th>\n",
       "            <th>hire_date</th>\n",
       "        </tr>\n",
       "    </thead>\n",
       "    <tbody>\n",
       "        <tr>\n",
       "            <td>25</td>\n",
       "            <td>Larry</td>\n",
       "            <td>Adams</td>\n",
       "            <td>Operations</td>\n",
       "            <td>58000</td>\n",
       "            <td>5</td>\n",
       "            <td>2024-05-18</td>\n",
       "        </tr>\n",
       "        <tr>\n",
       "            <td>17</td>\n",
       "            <td>Steven</td>\n",
       "            <td>Allen</td>\n",
       "            <td>IT</td>\n",
       "            <td>69000</td>\n",
       "            <td>5</td>\n",
       "            <td>2024-05-10</td>\n",
       "        </tr>\n",
       "        <tr>\n",
       "            <td>7</td>\n",
       "            <td>Robert</td>\n",
       "            <td>Anderson</td>\n",
       "            <td>Finance</td>\n",
       "            <td>65000</td>\n",
       "            <td>3</td>\n",
       "            <td>2024-04-30</td>\n",
       "        </tr>\n",
       "        <tr>\n",
       "            <td>27</td>\n",
       "            <td>Kenneth</td>\n",
       "            <td>Carter</td>\n",
       "            <td>Sales</td>\n",
       "            <td>64000</td>\n",
       "            <td>3</td>\n",
       "            <td>2024-05-20</td>\n",
       "        </tr>\n",
       "        <tr>\n",
       "            <td>13</td>\n",
       "            <td>Daniel</td>\n",
       "            <td>Clark</td>\n",
       "            <td>Finance</td>\n",
       "            <td>64000</td>\n",
       "            <td>5</td>\n",
       "            <td>2024-05-06</td>\n",
       "        </tr>\n",
       "        <tr>\n",
       "            <td>24</td>\n",
       "            <td>Deborah</td>\n",
       "            <td>Green</td>\n",
       "            <td>Marketing</td>\n",
       "            <td>63000</td>\n",
       "            <td>4</td>\n",
       "            <td>2024-05-17</td>\n",
       "        </tr>\n",
       "        <tr>\n",
       "            <td>16</td>\n",
       "            <td>Karen</td>\n",
       "            <td>Hall</td>\n",
       "            <td>Marketing</td>\n",
       "            <td>60000</td>\n",
       "            <td>4</td>\n",
       "            <td>2024-05-09</td>\n",
       "        </tr>\n",
       "        <tr>\n",
       "            <td>12</td>\n",
       "            <td>Barbara</td>\n",
       "            <td>Harris</td>\n",
       "            <td>IT</td>\n",
       "            <td>68000</td>\n",
       "            <td>1</td>\n",
       "            <td>2024-05-05</td>\n",
       "        </tr>\n",
       "        <tr>\n",
       "            <td>22</td>\n",
       "            <td>Megan</td>\n",
       "            <td>Hill</td>\n",
       "            <td>IT</td>\n",
       "            <td>71000</td>\n",
       "            <td>2</td>\n",
       "            <td>2024-05-15</td>\n",
       "        </tr>\n",
       "        <tr>\n",
       "            <td>19</td>\n",
       "            <td>George</td>\n",
       "            <td>King</td>\n",
       "            <td>Operations</td>\n",
       "            <td>57000</td>\n",
       "            <td>3</td>\n",
       "            <td>2024-05-12</td>\n",
       "        </tr>\n",
       "        <tr>\n",
       "            <td>10</td>\n",
       "            <td>Jennifer</td>\n",
       "            <td>Lee</td>\n",
       "            <td>Sales</td>\n",
       "            <td>63000</td>\n",
       "            <td>3</td>\n",
       "            <td>2024-05-03</td>\n",
       "        </tr>\n",
       "        <tr>\n",
       "            <td>14</td>\n",
       "            <td>Nancy</td>\n",
       "            <td>Lewis</td>\n",
       "            <td>HR</td>\n",
       "            <td>53000</td>\n",
       "            <td>2</td>\n",
       "            <td>2024-05-07</td>\n",
       "        </tr>\n",
       "        <tr>\n",
       "            <td>2</td>\n",
       "            <td>Lynn</td>\n",
       "            <td>Lin</td>\n",
       "            <td>IT</td>\n",
       "            <td>10000</td>\n",
       "            <td>5</td>\n",
       "            <td>2024-04-30</td>\n",
       "        </tr>\n",
       "        <tr>\n",
       "            <td>21</td>\n",
       "            <td>Brian</td>\n",
       "            <td>Lopez</td>\n",
       "            <td>Sales</td>\n",
       "            <td>62000</td>\n",
       "            <td>5</td>\n",
       "            <td>2024-05-14</td>\n",
       "        </tr>\n",
       "        <tr>\n",
       "            <td>6</td>\n",
       "            <td>Linda</td>\n",
       "            <td>Martinez</td>\n",
       "            <td>IT</td>\n",
       "            <td>70000</td>\n",
       "            <td>4</td>\n",
       "            <td>2024-04-29</td>\n",
       "        </tr>\n",
       "        <tr>\n",
       "            <td>28</td>\n",
       "            <td>Betty</td>\n",
       "            <td>Mitchell</td>\n",
       "            <td>IT</td>\n",
       "            <td>72000</td>\n",
       "            <td>4</td>\n",
       "            <td>2024-05-21</td>\n",
       "        </tr>\n",
       "        <tr>\n",
       "            <td>26</td>\n",
       "            <td>Sarah</td>\n",
       "            <td>Nelson</td>\n",
       "            <td>HR</td>\n",
       "            <td>55000</td>\n",
       "            <td>2</td>\n",
       "            <td>2024-05-19</td>\n",
       "        </tr>\n",
       "        <tr>\n",
       "            <td>29</td>\n",
       "            <td>Ronald</td>\n",
       "            <td>Perez</td>\n",
       "            <td>Finance</td>\n",
       "            <td>67000</td>\n",
       "            <td>5</td>\n",
       "            <td>2024-05-22</td>\n",
       "        </tr>\n",
       "        <tr>\n",
       "            <td>30</td>\n",
       "            <td>Laura</td>\n",
       "            <td>Roberts</td>\n",
       "            <td>Marketing</td>\n",
       "            <td>65000</td>\n",
       "            <td>2</td>\n",
       "            <td>2024-05-23</td>\n",
       "        </tr>\n",
       "        <tr>\n",
       "            <td>23</td>\n",
       "            <td>Anthony</td>\n",
       "            <td>Scott</td>\n",
       "            <td>Finance</td>\n",
       "            <td>66000</td>\n",
       "            <td>3</td>\n",
       "            <td>2024-05-16</td>\n",
       "        </tr>\n",
       "        <tr>\n",
       "            <td>8</td>\n",
       "            <td>Patricia</td>\n",
       "            <td>Taylor</td>\n",
       "            <td>HR</td>\n",
       "            <td>52000</td>\n",
       "            <td>5</td>\n",
       "            <td>2024-05-01</td>\n",
       "        </tr>\n",
       "        <tr>\n",
       "            <td>9</td>\n",
       "            <td>Christopher</td>\n",
       "            <td>Thomas</td>\n",
       "            <td>Marketing</td>\n",
       "            <td>59000</td>\n",
       "            <td>2</td>\n",
       "            <td>2024-05-02</td>\n",
       "        </tr>\n",
       "        <tr>\n",
       "            <td>15</td>\n",
       "            <td>Paul</td>\n",
       "            <td>Walker</td>\n",
       "            <td>Sales</td>\n",
       "            <td>61000</td>\n",
       "            <td>3</td>\n",
       "            <td>2024-05-08</td>\n",
       "        </tr>\n",
       "        <tr>\n",
       "            <td>11</td>\n",
       "            <td>James</td>\n",
       "            <td>White</td>\n",
       "            <td>Operations</td>\n",
       "            <td>56000</td>\n",
       "            <td>4</td>\n",
       "            <td>2024-05-04</td>\n",
       "        </tr>\n",
       "        <tr>\n",
       "            <td>20</td>\n",
       "            <td>Mary</td>\n",
       "            <td>Wright</td>\n",
       "            <td>HR</td>\n",
       "            <td>54000</td>\n",
       "            <td>4</td>\n",
       "            <td>2024-05-13</td>\n",
       "        </tr>\n",
       "        <tr>\n",
       "            <td>18</td>\n",
       "            <td>Elizabeth</td>\n",
       "            <td>Young</td>\n",
       "            <td>Finance</td>\n",
       "            <td>62000</td>\n",
       "            <td>2</td>\n",
       "            <td>2024-05-11</td>\n",
       "        </tr>\n",
       "        <tr>\n",
       "            <td>1</td>\n",
       "            <td>Jason</td>\n",
       "            <td>Zhu</td>\n",
       "            <td>IT</td>\n",
       "            <td>10000</td>\n",
       "            <td>5</td>\n",
       "            <td>2024-04-30</td>\n",
       "        </tr>\n",
       "    </tbody>\n",
       "</table>"
      ],
      "text/plain": [
       "[(25, 'Larry', 'Adams', 'Operations', 58000, 5, '2024-05-18'),\n",
       " (17, 'Steven', 'Allen', 'IT', 69000, 5, '2024-05-10'),\n",
       " (7, 'Robert', 'Anderson', 'Finance', 65000, 3, '2024-04-30'),\n",
       " (27, 'Kenneth', 'Carter', 'Sales', 64000, 3, '2024-05-20'),\n",
       " (13, 'Daniel', 'Clark', 'Finance', 64000, 5, '2024-05-06'),\n",
       " (24, 'Deborah', 'Green', 'Marketing', 63000, 4, '2024-05-17'),\n",
       " (16, 'Karen', 'Hall', 'Marketing', 60000, 4, '2024-05-09'),\n",
       " (12, 'Barbara', 'Harris', 'IT', 68000, 1, '2024-05-05'),\n",
       " (22, 'Megan', 'Hill', 'IT', 71000, 2, '2024-05-15'),\n",
       " (19, 'George', 'King', 'Operations', 57000, 3, '2024-05-12'),\n",
       " (10, 'Jennifer', 'Lee', 'Sales', 63000, 3, '2024-05-03'),\n",
       " (14, 'Nancy', 'Lewis', 'HR', 53000, 2, '2024-05-07'),\n",
       " (2, 'Lynn', 'Lin', 'IT', 10000, 5, '2024-04-30'),\n",
       " (21, 'Brian', 'Lopez', 'Sales', 62000, 5, '2024-05-14'),\n",
       " (6, 'Linda', 'Martinez', 'IT', 70000, 4, '2024-04-29'),\n",
       " (28, 'Betty', 'Mitchell', 'IT', 72000, 4, '2024-05-21'),\n",
       " (26, 'Sarah', 'Nelson', 'HR', 55000, 2, '2024-05-19'),\n",
       " (29, 'Ronald', 'Perez', 'Finance', 67000, 5, '2024-05-22'),\n",
       " (30, 'Laura', 'Roberts', 'Marketing', 65000, 2, '2024-05-23'),\n",
       " (23, 'Anthony', 'Scott', 'Finance', 66000, 3, '2024-05-16'),\n",
       " (8, 'Patricia', 'Taylor', 'HR', 52000, 5, '2024-05-01'),\n",
       " (9, 'Christopher', 'Thomas', 'Marketing', 59000, 2, '2024-05-02'),\n",
       " (15, 'Paul', 'Walker', 'Sales', 61000, 3, '2024-05-08'),\n",
       " (11, 'James', 'White', 'Operations', 56000, 4, '2024-05-04'),\n",
       " (20, 'Mary', 'Wright', 'HR', 54000, 4, '2024-05-13'),\n",
       " (18, 'Elizabeth', 'Young', 'Finance', 62000, 2, '2024-05-11'),\n",
       " (1, 'Jason', 'Zhu', 'IT', 10000, 5, '2024-04-30')]"
      ]
     },
     "execution_count": 50,
     "metadata": {},
     "output_type": "execute_result"
    }
   ],
   "source": [
    "%%sql\n",
    "SELECT * FROM employees\n",
    "ORDER BY last_name ASC;"
   ]
  },
  {
   "cell_type": "markdown",
   "metadata": {},
   "source": [
    "**DESC:** Descending order (highest to lowest)."
   ]
  },
  {
   "cell_type": "code",
   "execution_count": null,
   "metadata": {},
   "outputs": [],
   "source": [
    "%%sql\n",
    "SELECT * FROM employees\n",
    "ORDER BY salary DESC;"
   ]
  },
  {
   "cell_type": "markdown",
   "metadata": {},
   "source": [
    "### Sorting multiple columns"
   ]
  },
  {
   "cell_type": "code",
   "execution_count": null,
   "metadata": {},
   "outputs": [],
   "source": [
    "%%sql\n",
    "SELECT * FROM employees\n",
    "ORDER BY department ASC, Salary DESC"
   ]
  },
  {
   "cell_type": "code",
   "execution_count": 53,
   "metadata": {},
   "outputs": [
    {
     "name": "stdout",
     "output_type": "stream",
     "text": [
      " * sqlite:///abc-corp.db\n",
      "Done.\n"
     ]
    },
    {
     "data": {
      "text/html": [
       "<table>\n",
       "    <thead>\n",
       "        <tr>\n",
       "            <th>employee_id</th>\n",
       "            <th>first_name</th>\n",
       "            <th>last_name</th>\n",
       "            <th>department</th>\n",
       "            <th>salary</th>\n",
       "            <th>performance_rating</th>\n",
       "            <th>hire_date</th>\n",
       "        </tr>\n",
       "    </thead>\n",
       "    <tbody>\n",
       "        <tr>\n",
       "            <td>12</td>\n",
       "            <td>Barbara</td>\n",
       "            <td>Harris</td>\n",
       "            <td>IT</td>\n",
       "            <td>68000</td>\n",
       "            <td>1</td>\n",
       "            <td>2024-05-05</td>\n",
       "        </tr>\n",
       "        <tr>\n",
       "            <td>22</td>\n",
       "            <td>Megan</td>\n",
       "            <td>Hill</td>\n",
       "            <td>IT</td>\n",
       "            <td>71000</td>\n",
       "            <td>2</td>\n",
       "            <td>2024-05-15</td>\n",
       "        </tr>\n",
       "        <tr>\n",
       "            <td>30</td>\n",
       "            <td>Laura</td>\n",
       "            <td>Roberts</td>\n",
       "            <td>Marketing</td>\n",
       "            <td>65000</td>\n",
       "            <td>2</td>\n",
       "            <td>2024-05-23</td>\n",
       "        </tr>\n",
       "        <tr>\n",
       "            <td>18</td>\n",
       "            <td>Elizabeth</td>\n",
       "            <td>Young</td>\n",
       "            <td>Finance</td>\n",
       "            <td>62000</td>\n",
       "            <td>2</td>\n",
       "            <td>2024-05-11</td>\n",
       "        </tr>\n",
       "        <tr>\n",
       "            <td>9</td>\n",
       "            <td>Christopher</td>\n",
       "            <td>Thomas</td>\n",
       "            <td>Marketing</td>\n",
       "            <td>59000</td>\n",
       "            <td>2</td>\n",
       "            <td>2024-05-02</td>\n",
       "        </tr>\n",
       "        <tr>\n",
       "            <td>26</td>\n",
       "            <td>Sarah</td>\n",
       "            <td>Nelson</td>\n",
       "            <td>HR</td>\n",
       "            <td>55000</td>\n",
       "            <td>2</td>\n",
       "            <td>2024-05-19</td>\n",
       "        </tr>\n",
       "        <tr>\n",
       "            <td>14</td>\n",
       "            <td>Nancy</td>\n",
       "            <td>Lewis</td>\n",
       "            <td>HR</td>\n",
       "            <td>53000</td>\n",
       "            <td>2</td>\n",
       "            <td>2024-05-07</td>\n",
       "        </tr>\n",
       "        <tr>\n",
       "            <td>23</td>\n",
       "            <td>Anthony</td>\n",
       "            <td>Scott</td>\n",
       "            <td>Finance</td>\n",
       "            <td>66000</td>\n",
       "            <td>3</td>\n",
       "            <td>2024-05-16</td>\n",
       "        </tr>\n",
       "        <tr>\n",
       "            <td>7</td>\n",
       "            <td>Robert</td>\n",
       "            <td>Anderson</td>\n",
       "            <td>Finance</td>\n",
       "            <td>65000</td>\n",
       "            <td>3</td>\n",
       "            <td>2024-04-30</td>\n",
       "        </tr>\n",
       "        <tr>\n",
       "            <td>27</td>\n",
       "            <td>Kenneth</td>\n",
       "            <td>Carter</td>\n",
       "            <td>Sales</td>\n",
       "            <td>64000</td>\n",
       "            <td>3</td>\n",
       "            <td>2024-05-20</td>\n",
       "        </tr>\n",
       "        <tr>\n",
       "            <td>10</td>\n",
       "            <td>Jennifer</td>\n",
       "            <td>Lee</td>\n",
       "            <td>Sales</td>\n",
       "            <td>63000</td>\n",
       "            <td>3</td>\n",
       "            <td>2024-05-03</td>\n",
       "        </tr>\n",
       "        <tr>\n",
       "            <td>15</td>\n",
       "            <td>Paul</td>\n",
       "            <td>Walker</td>\n",
       "            <td>Sales</td>\n",
       "            <td>61000</td>\n",
       "            <td>3</td>\n",
       "            <td>2024-05-08</td>\n",
       "        </tr>\n",
       "        <tr>\n",
       "            <td>19</td>\n",
       "            <td>George</td>\n",
       "            <td>King</td>\n",
       "            <td>Operations</td>\n",
       "            <td>57000</td>\n",
       "            <td>3</td>\n",
       "            <td>2024-05-12</td>\n",
       "        </tr>\n",
       "        <tr>\n",
       "            <td>28</td>\n",
       "            <td>Betty</td>\n",
       "            <td>Mitchell</td>\n",
       "            <td>IT</td>\n",
       "            <td>72000</td>\n",
       "            <td>4</td>\n",
       "            <td>2024-05-21</td>\n",
       "        </tr>\n",
       "        <tr>\n",
       "            <td>6</td>\n",
       "            <td>Linda</td>\n",
       "            <td>Martinez</td>\n",
       "            <td>IT</td>\n",
       "            <td>70000</td>\n",
       "            <td>4</td>\n",
       "            <td>2024-04-29</td>\n",
       "        </tr>\n",
       "        <tr>\n",
       "            <td>24</td>\n",
       "            <td>Deborah</td>\n",
       "            <td>Green</td>\n",
       "            <td>Marketing</td>\n",
       "            <td>63000</td>\n",
       "            <td>4</td>\n",
       "            <td>2024-05-17</td>\n",
       "        </tr>\n",
       "        <tr>\n",
       "            <td>16</td>\n",
       "            <td>Karen</td>\n",
       "            <td>Hall</td>\n",
       "            <td>Marketing</td>\n",
       "            <td>60000</td>\n",
       "            <td>4</td>\n",
       "            <td>2024-05-09</td>\n",
       "        </tr>\n",
       "        <tr>\n",
       "            <td>11</td>\n",
       "            <td>James</td>\n",
       "            <td>White</td>\n",
       "            <td>Operations</td>\n",
       "            <td>56000</td>\n",
       "            <td>4</td>\n",
       "            <td>2024-05-04</td>\n",
       "        </tr>\n",
       "        <tr>\n",
       "            <td>20</td>\n",
       "            <td>Mary</td>\n",
       "            <td>Wright</td>\n",
       "            <td>HR</td>\n",
       "            <td>54000</td>\n",
       "            <td>4</td>\n",
       "            <td>2024-05-13</td>\n",
       "        </tr>\n",
       "        <tr>\n",
       "            <td>17</td>\n",
       "            <td>Steven</td>\n",
       "            <td>Allen</td>\n",
       "            <td>IT</td>\n",
       "            <td>69000</td>\n",
       "            <td>5</td>\n",
       "            <td>2024-05-10</td>\n",
       "        </tr>\n",
       "        <tr>\n",
       "            <td>29</td>\n",
       "            <td>Ronald</td>\n",
       "            <td>Perez</td>\n",
       "            <td>Finance</td>\n",
       "            <td>67000</td>\n",
       "            <td>5</td>\n",
       "            <td>2024-05-22</td>\n",
       "        </tr>\n",
       "        <tr>\n",
       "            <td>13</td>\n",
       "            <td>Daniel</td>\n",
       "            <td>Clark</td>\n",
       "            <td>Finance</td>\n",
       "            <td>64000</td>\n",
       "            <td>5</td>\n",
       "            <td>2024-05-06</td>\n",
       "        </tr>\n",
       "        <tr>\n",
       "            <td>21</td>\n",
       "            <td>Brian</td>\n",
       "            <td>Lopez</td>\n",
       "            <td>Sales</td>\n",
       "            <td>62000</td>\n",
       "            <td>5</td>\n",
       "            <td>2024-05-14</td>\n",
       "        </tr>\n",
       "        <tr>\n",
       "            <td>25</td>\n",
       "            <td>Larry</td>\n",
       "            <td>Adams</td>\n",
       "            <td>Operations</td>\n",
       "            <td>58000</td>\n",
       "            <td>5</td>\n",
       "            <td>2024-05-18</td>\n",
       "        </tr>\n",
       "        <tr>\n",
       "            <td>8</td>\n",
       "            <td>Patricia</td>\n",
       "            <td>Taylor</td>\n",
       "            <td>HR</td>\n",
       "            <td>52000</td>\n",
       "            <td>5</td>\n",
       "            <td>2024-05-01</td>\n",
       "        </tr>\n",
       "        <tr>\n",
       "            <td>1</td>\n",
       "            <td>Jason</td>\n",
       "            <td>Zhu</td>\n",
       "            <td>IT</td>\n",
       "            <td>10000</td>\n",
       "            <td>5</td>\n",
       "            <td>2024-04-30</td>\n",
       "        </tr>\n",
       "        <tr>\n",
       "            <td>2</td>\n",
       "            <td>Lynn</td>\n",
       "            <td>Lin</td>\n",
       "            <td>IT</td>\n",
       "            <td>10000</td>\n",
       "            <td>5</td>\n",
       "            <td>2024-04-30</td>\n",
       "        </tr>\n",
       "    </tbody>\n",
       "</table>"
      ],
      "text/plain": [
       "[(12, 'Barbara', 'Harris', 'IT', 68000, 1, '2024-05-05'),\n",
       " (22, 'Megan', 'Hill', 'IT', 71000, 2, '2024-05-15'),\n",
       " (30, 'Laura', 'Roberts', 'Marketing', 65000, 2, '2024-05-23'),\n",
       " (18, 'Elizabeth', 'Young', 'Finance', 62000, 2, '2024-05-11'),\n",
       " (9, 'Christopher', 'Thomas', 'Marketing', 59000, 2, '2024-05-02'),\n",
       " (26, 'Sarah', 'Nelson', 'HR', 55000, 2, '2024-05-19'),\n",
       " (14, 'Nancy', 'Lewis', 'HR', 53000, 2, '2024-05-07'),\n",
       " (23, 'Anthony', 'Scott', 'Finance', 66000, 3, '2024-05-16'),\n",
       " (7, 'Robert', 'Anderson', 'Finance', 65000, 3, '2024-04-30'),\n",
       " (27, 'Kenneth', 'Carter', 'Sales', 64000, 3, '2024-05-20'),\n",
       " (10, 'Jennifer', 'Lee', 'Sales', 63000, 3, '2024-05-03'),\n",
       " (15, 'Paul', 'Walker', 'Sales', 61000, 3, '2024-05-08'),\n",
       " (19, 'George', 'King', 'Operations', 57000, 3, '2024-05-12'),\n",
       " (28, 'Betty', 'Mitchell', 'IT', 72000, 4, '2024-05-21'),\n",
       " (6, 'Linda', 'Martinez', 'IT', 70000, 4, '2024-04-29'),\n",
       " (24, 'Deborah', 'Green', 'Marketing', 63000, 4, '2024-05-17'),\n",
       " (16, 'Karen', 'Hall', 'Marketing', 60000, 4, '2024-05-09'),\n",
       " (11, 'James', 'White', 'Operations', 56000, 4, '2024-05-04'),\n",
       " (20, 'Mary', 'Wright', 'HR', 54000, 4, '2024-05-13'),\n",
       " (17, 'Steven', 'Allen', 'IT', 69000, 5, '2024-05-10'),\n",
       " (29, 'Ronald', 'Perez', 'Finance', 67000, 5, '2024-05-22'),\n",
       " (13, 'Daniel', 'Clark', 'Finance', 64000, 5, '2024-05-06'),\n",
       " (21, 'Brian', 'Lopez', 'Sales', 62000, 5, '2024-05-14'),\n",
       " (25, 'Larry', 'Adams', 'Operations', 58000, 5, '2024-05-18'),\n",
       " (8, 'Patricia', 'Taylor', 'HR', 52000, 5, '2024-05-01'),\n",
       " (1, 'Jason', 'Zhu', 'IT', 10000, 5, '2024-04-30'),\n",
       " (2, 'Lynn', 'Lin', 'IT', 10000, 5, '2024-04-30')]"
      ]
     },
     "execution_count": 53,
     "metadata": {},
     "output_type": "execute_result"
    }
   ],
   "source": [
    "%%sql\n",
    "SELECT * FROM employees\n",
    "ORDER BY performance_rating ASC, Salary DESC"
   ]
  },
  {
   "cell_type": "markdown",
   "metadata": {},
   "source": [
    "## GROUP BY\n",
    "\n",
    "The **GROUP BY** clause is used to organize and summarize data by grouping rows with the same values in one or more columns. This helps you analyze trends, patterns, and aggregate statistics within your data."
   ]
  },
  {
   "cell_type": "markdown",
   "metadata": {},
   "source": [
    "### Grouping with COUNT()"
   ]
  },
  {
   "cell_type": "code",
   "execution_count": 54,
   "metadata": {},
   "outputs": [
    {
     "name": "stdout",
     "output_type": "stream",
     "text": [
      " * sqlite:///abc-corp.db\n",
      "Done.\n"
     ]
    },
    {
     "data": {
      "text/html": [
       "<table>\n",
       "    <thead>\n",
       "        <tr>\n",
       "            <th>department</th>\n",
       "            <th>employee_count</th>\n",
       "        </tr>\n",
       "    </thead>\n",
       "    <tbody>\n",
       "        <tr>\n",
       "            <td>Finance</td>\n",
       "            <td>5</td>\n",
       "        </tr>\n",
       "        <tr>\n",
       "            <td>HR</td>\n",
       "            <td>4</td>\n",
       "        </tr>\n",
       "        <tr>\n",
       "            <td>IT</td>\n",
       "            <td>7</td>\n",
       "        </tr>\n",
       "        <tr>\n",
       "            <td>Marketing</td>\n",
       "            <td>4</td>\n",
       "        </tr>\n",
       "        <tr>\n",
       "            <td>Operations</td>\n",
       "            <td>3</td>\n",
       "        </tr>\n",
       "        <tr>\n",
       "            <td>Sales</td>\n",
       "            <td>4</td>\n",
       "        </tr>\n",
       "    </tbody>\n",
       "</table>"
      ],
      "text/plain": [
       "[('Finance', 5),\n",
       " ('HR', 4),\n",
       " ('IT', 7),\n",
       " ('Marketing', 4),\n",
       " ('Operations', 3),\n",
       " ('Sales', 4)]"
      ]
     },
     "execution_count": 54,
     "metadata": {},
     "output_type": "execute_result"
    }
   ],
   "source": [
    "%%sql\n",
    "SELECT department,COUNT(1) AS employee_count\n",
    "FROM employees\n",
    "GROUP BY department;"
   ]
  },
  {
   "cell_type": "markdown",
   "metadata": {},
   "source": [
    "### Grouping with SUM()"
   ]
  },
  {
   "cell_type": "code",
   "execution_count": 56,
   "metadata": {},
   "outputs": [
    {
     "name": "stdout",
     "output_type": "stream",
     "text": [
      " * sqlite:///abc-corp.db\n",
      "Done.\n"
     ]
    },
    {
     "data": {
      "text/html": [
       "<table>\n",
       "    <thead>\n",
       "        <tr>\n",
       "            <th>department</th>\n",
       "            <th>total_salary</th>\n",
       "            <th>employee_count</th>\n",
       "        </tr>\n",
       "    </thead>\n",
       "    <tbody>\n",
       "        <tr>\n",
       "            <td>Finance</td>\n",
       "            <td>324000</td>\n",
       "            <td>5</td>\n",
       "        </tr>\n",
       "        <tr>\n",
       "            <td>HR</td>\n",
       "            <td>214000</td>\n",
       "            <td>4</td>\n",
       "        </tr>\n",
       "        <tr>\n",
       "            <td>IT</td>\n",
       "            <td>370000</td>\n",
       "            <td>7</td>\n",
       "        </tr>\n",
       "        <tr>\n",
       "            <td>Marketing</td>\n",
       "            <td>247000</td>\n",
       "            <td>4</td>\n",
       "        </tr>\n",
       "        <tr>\n",
       "            <td>Operations</td>\n",
       "            <td>171000</td>\n",
       "            <td>3</td>\n",
       "        </tr>\n",
       "        <tr>\n",
       "            <td>Sales</td>\n",
       "            <td>250000</td>\n",
       "            <td>4</td>\n",
       "        </tr>\n",
       "    </tbody>\n",
       "</table>"
      ],
      "text/plain": [
       "[('Finance', 324000, 5),\n",
       " ('HR', 214000, 4),\n",
       " ('IT', 370000, 7),\n",
       " ('Marketing', 247000, 4),\n",
       " ('Operations', 171000, 3),\n",
       " ('Sales', 250000, 4)]"
      ]
     },
     "execution_count": 56,
     "metadata": {},
     "output_type": "execute_result"
    }
   ],
   "source": [
    "%%sql\n",
    "SELECT department\n",
    " ,SUM(salary) AS total_salary\n",
    " ,COUNT(1) AS employee_count\n",
    "FROM employees\n",
    "GROUP BY department;"
   ]
  },
  {
   "cell_type": "markdown",
   "metadata": {},
   "source": [
    "### Grouping with AVG()"
   ]
  },
  {
   "cell_type": "code",
   "execution_count": 58,
   "metadata": {},
   "outputs": [
    {
     "name": "stdout",
     "output_type": "stream",
     "text": [
      " * sqlite:///abc-corp.db\n",
      "Done.\n"
     ]
    },
    {
     "data": {
      "text/html": [
       "<table>\n",
       "    <thead>\n",
       "        <tr>\n",
       "            <th>department</th>\n",
       "            <th>avg_salary</th>\n",
       "            <th>employee_count</th>\n",
       "        </tr>\n",
       "    </thead>\n",
       "    <tbody>\n",
       "        <tr>\n",
       "            <td>Finance</td>\n",
       "            <td>64800.0</td>\n",
       "            <td>5</td>\n",
       "        </tr>\n",
       "        <tr>\n",
       "            <td>HR</td>\n",
       "            <td>53500.0</td>\n",
       "            <td>4</td>\n",
       "        </tr>\n",
       "        <tr>\n",
       "            <td>IT</td>\n",
       "            <td>52857.142857142855</td>\n",
       "            <td>7</td>\n",
       "        </tr>\n",
       "        <tr>\n",
       "            <td>Marketing</td>\n",
       "            <td>61750.0</td>\n",
       "            <td>4</td>\n",
       "        </tr>\n",
       "        <tr>\n",
       "            <td>Operations</td>\n",
       "            <td>57000.0</td>\n",
       "            <td>3</td>\n",
       "        </tr>\n",
       "        <tr>\n",
       "            <td>Sales</td>\n",
       "            <td>62500.0</td>\n",
       "            <td>4</td>\n",
       "        </tr>\n",
       "    </tbody>\n",
       "</table>"
      ],
      "text/plain": [
       "[('Finance', 64800.0, 5),\n",
       " ('HR', 53500.0, 4),\n",
       " ('IT', 52857.142857142855, 7),\n",
       " ('Marketing', 61750.0, 4),\n",
       " ('Operations', 57000.0, 3),\n",
       " ('Sales', 62500.0, 4)]"
      ]
     },
     "execution_count": 58,
     "metadata": {},
     "output_type": "execute_result"
    }
   ],
   "source": [
    "%%sql\n",
    "SELECT department\n",
    " ,AVG(salary) AS avg_salary\n",
    " ,COUNT(1) AS employee_count\n",
    "FROM employees\n",
    "GROUP BY department\n"
   ]
  },
  {
   "cell_type": "markdown",
   "metadata": {},
   "source": [
    "### Grouping with MAX() and MIN()"
   ]
  },
  {
   "cell_type": "code",
   "execution_count": 59,
   "metadata": {},
   "outputs": [
    {
     "name": "stdout",
     "output_type": "stream",
     "text": [
      " * sqlite:///abc-corp.db\n",
      "Done.\n"
     ]
    },
    {
     "data": {
      "text/html": [
       "<table>\n",
       "    <thead>\n",
       "        <tr>\n",
       "            <th>department</th>\n",
       "            <th>max_salary</th>\n",
       "            <th>min_salary</th>\n",
       "        </tr>\n",
       "    </thead>\n",
       "    <tbody>\n",
       "        <tr>\n",
       "            <td>Finance</td>\n",
       "            <td>67000</td>\n",
       "            <td>62000</td>\n",
       "        </tr>\n",
       "        <tr>\n",
       "            <td>HR</td>\n",
       "            <td>55000</td>\n",
       "            <td>52000</td>\n",
       "        </tr>\n",
       "        <tr>\n",
       "            <td>IT</td>\n",
       "            <td>72000</td>\n",
       "            <td>10000</td>\n",
       "        </tr>\n",
       "        <tr>\n",
       "            <td>Marketing</td>\n",
       "            <td>65000</td>\n",
       "            <td>59000</td>\n",
       "        </tr>\n",
       "        <tr>\n",
       "            <td>Operations</td>\n",
       "            <td>58000</td>\n",
       "            <td>56000</td>\n",
       "        </tr>\n",
       "        <tr>\n",
       "            <td>Sales</td>\n",
       "            <td>64000</td>\n",
       "            <td>61000</td>\n",
       "        </tr>\n",
       "    </tbody>\n",
       "</table>"
      ],
      "text/plain": [
       "[('Finance', 67000, 62000),\n",
       " ('HR', 55000, 52000),\n",
       " ('IT', 72000, 10000),\n",
       " ('Marketing', 65000, 59000),\n",
       " ('Operations', 58000, 56000),\n",
       " ('Sales', 64000, 61000)]"
      ]
     },
     "execution_count": 59,
     "metadata": {},
     "output_type": "execute_result"
    }
   ],
   "source": [
    "%%sql\n",
    "SELECT department\n",
    " ,MAX(salary) AS max_salary\n",
    " ,MIN(salary) AS min_salary\n",
    "FROM employees\n",
    "GROUP BY department"
   ]
  },
  {
   "cell_type": "code",
   "execution_count": 60,
   "metadata": {},
   "outputs": [
    {
     "name": "stdout",
     "output_type": "stream",
     "text": [
      " * sqlite:///abc-corp.db\n",
      "Done.\n"
     ]
    },
    {
     "data": {
      "text/html": [
       "<table>\n",
       "    <thead>\n",
       "        <tr>\n",
       "            <th>employee_id</th>\n",
       "            <th>first_name</th>\n",
       "            <th>last_name</th>\n",
       "            <th>department</th>\n",
       "            <th>salary</th>\n",
       "            <th>performance_rating</th>\n",
       "            <th>hire_date</th>\n",
       "        </tr>\n",
       "    </thead>\n",
       "    <tbody>\n",
       "        <tr>\n",
       "            <td>1</td>\n",
       "            <td>Jason</td>\n",
       "            <td>Zhu</td>\n",
       "            <td>IT</td>\n",
       "            <td>10000</td>\n",
       "            <td>5</td>\n",
       "            <td>2024-04-30</td>\n",
       "        </tr>\n",
       "        <tr>\n",
       "            <td>2</td>\n",
       "            <td>Lynn</td>\n",
       "            <td>Lin</td>\n",
       "            <td>IT</td>\n",
       "            <td>10000</td>\n",
       "            <td>5</td>\n",
       "            <td>2024-04-30</td>\n",
       "        </tr>\n",
       "    </tbody>\n",
       "</table>"
      ],
      "text/plain": [
       "[(1, 'Jason', 'Zhu', 'IT', 10000, 5, '2024-04-30'),\n",
       " (2, 'Lynn', 'Lin', 'IT', 10000, 5, '2024-04-30')]"
      ]
     },
     "execution_count": 60,
     "metadata": {},
     "output_type": "execute_result"
    }
   ],
   "source": [
    "%%sql\n",
    "SELECT *\n",
    "FROM employees\n",
    "WHERE salary=\n",
    "(\n",
    "    SELECT MIN(salary)\n",
    "    FROM employees\n",
    ");"
   ]
  },
  {
   "cell_type": "code",
   "execution_count": 66,
   "metadata": {},
   "outputs": [
    {
     "name": "stdout",
     "output_type": "stream",
     "text": [
      " * sqlite:///abc-corp.db\n",
      "Done.\n"
     ]
    },
    {
     "data": {
      "text/html": [
       "<table>\n",
       "    <thead>\n",
       "        <tr>\n",
       "            <th>employee_id</th>\n",
       "            <th>first_name</th>\n",
       "            <th>last_name</th>\n",
       "            <th>department</th>\n",
       "            <th>salary</th>\n",
       "            <th>performance_rating</th>\n",
       "            <th>hire_date</th>\n",
       "        </tr>\n",
       "    </thead>\n",
       "    <tbody>\n",
       "        <tr>\n",
       "            <td>28</td>\n",
       "            <td>Betty</td>\n",
       "            <td>Mitchell</td>\n",
       "            <td>IT</td>\n",
       "            <td>72000</td>\n",
       "            <td>4</td>\n",
       "            <td>2024-05-21</td>\n",
       "        </tr>\n",
       "    </tbody>\n",
       "</table>"
      ],
      "text/plain": [
       "[(28, 'Betty', 'Mitchell', 'IT', 72000, 4, '2024-05-21')]"
      ]
     },
     "execution_count": 66,
     "metadata": {},
     "output_type": "execute_result"
    }
   ],
   "source": [
    "%%sql\n",
    "SELECT * FROM employees\n",
    "WHERE salary = \n",
    "(\n",
    "    SELECT MAX(salary)\n",
    "    FROM employees\n",
    ");\n"
   ]
  }
 ],
 "metadata": {
  "kernelspec": {
   "display_name": "Python 3",
   "language": "python",
   "name": "python3"
  },
  "language_info": {
   "codemirror_mode": {
    "name": "ipython",
    "version": 3
   },
   "file_extension": ".py",
   "mimetype": "text/x-python",
   "name": "python",
   "nbconvert_exporter": "python",
   "pygments_lexer": "ipython3",
   "version": "3.12.3"
  }
 },
 "nbformat": 4,
 "nbformat_minor": 2
}
