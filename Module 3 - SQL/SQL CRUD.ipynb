{
 "cells": [
  {
   "cell_type": "code",
   "execution_count": null,
   "metadata": {},
   "outputs": [],
   "source": [
    "# Install Python Package\n",
    "%pip install ipython-sql"
   ]
  },
  {
   "cell_type": "code",
   "execution_count": 2,
   "metadata": {},
   "outputs": [],
   "source": [
    "#Load sql extention\n",
    "%load_ext sql"
   ]
  },
  {
   "cell_type": "code",
   "execution_count": 3,
   "metadata": {},
   "outputs": [],
   "source": [
    "#Create SQLite Database\n",
    "%sql sqlite:///abc-corp.db"
   ]
  },
  {
   "cell_type": "code",
   "execution_count": 41,
   "metadata": {},
   "outputs": [
    {
     "name": "stdout",
     "output_type": "stream",
     "text": [
      " * sqlite:///abc-corp.db\n",
      "Done.\n"
     ]
    },
    {
     "data": {
      "text/plain": [
       "[]"
      ]
     },
     "execution_count": 41,
     "metadata": {},
     "output_type": "execute_result"
    }
   ],
   "source": [
    "%%sql\n",
    "CREATE TABLE IF NOT EXISTS employees(\n",
    "    employee_id integer primary key autoincrement,\n",
    "    first_name varchar(50) not null,\n",
    "    last_name varchar(50) not null,\n",
    "    department varchar(50) not null,\n",
    "    salary decimal(10,2) not null    \n",
    ");"
   ]
  },
  {
   "cell_type": "code",
   "execution_count": 11,
   "metadata": {},
   "outputs": [
    {
     "name": "stdout",
     "output_type": "stream",
     "text": [
      " * sqlite:///abc-corp.db\n",
      "Done.\n"
     ]
    },
    {
     "data": {
      "text/html": [
       "<table>\n",
       "    <thead>\n",
       "        <tr>\n",
       "            <th>name</th>\n",
       "        </tr>\n",
       "    </thead>\n",
       "    <tbody>\n",
       "        <tr>\n",
       "            <td>employees</td>\n",
       "        </tr>\n",
       "        <tr>\n",
       "            <td>sqlite_sequence</td>\n",
       "        </tr>\n",
       "    </tbody>\n",
       "</table>"
      ],
      "text/plain": [
       "[('employees',), ('sqlite_sequence',)]"
      ]
     },
     "execution_count": 11,
     "metadata": {},
     "output_type": "execute_result"
    }
   ],
   "source": [
    "#Check table exists\n",
    "%sql SELECT name FROM sqlite_master WHERE type='table';"
   ]
  },
  {
   "cell_type": "code",
   "execution_count": 40,
   "metadata": {},
   "outputs": [
    {
     "name": "stdout",
     "output_type": "stream",
     "text": [
      " * sqlite:///abc-corp.db\n",
      "Done.\n"
     ]
    },
    {
     "data": {
      "text/plain": [
       "[]"
      ]
     },
     "execution_count": 40,
     "metadata": {},
     "output_type": "execute_result"
    }
   ],
   "source": [
    "#Delete a table\n",
    "%sql DROP TABLE employees;"
   ]
  },
  {
   "cell_type": "code",
   "execution_count": 24,
   "metadata": {},
   "outputs": [
    {
     "name": "stdout",
     "output_type": "stream",
     "text": [
      " * sqlite:///abc-corp.db\n",
      "Done.\n"
     ]
    },
    {
     "data": {
      "text/html": [
       "<table>\n",
       "    <thead>\n",
       "        <tr>\n",
       "            <th>cid</th>\n",
       "            <th>name</th>\n",
       "            <th>type</th>\n",
       "            <th>notnull</th>\n",
       "            <th>dflt_value</th>\n",
       "            <th>pk</th>\n",
       "        </tr>\n",
       "    </thead>\n",
       "    <tbody>\n",
       "        <tr>\n",
       "            <td>0</td>\n",
       "            <td>employee_id</td>\n",
       "            <td>INTEGER</td>\n",
       "            <td>0</td>\n",
       "            <td>None</td>\n",
       "            <td>1</td>\n",
       "        </tr>\n",
       "        <tr>\n",
       "            <td>1</td>\n",
       "            <td>first_name</td>\n",
       "            <td>varchar(50)</td>\n",
       "            <td>1</td>\n",
       "            <td>None</td>\n",
       "            <td>0</td>\n",
       "        </tr>\n",
       "        <tr>\n",
       "            <td>2</td>\n",
       "            <td>last_name</td>\n",
       "            <td>varchar(50)</td>\n",
       "            <td>1</td>\n",
       "            <td>None</td>\n",
       "            <td>0</td>\n",
       "        </tr>\n",
       "        <tr>\n",
       "            <td>3</td>\n",
       "            <td>department</td>\n",
       "            <td>varchar(50)</td>\n",
       "            <td>1</td>\n",
       "            <td>None</td>\n",
       "            <td>0</td>\n",
       "        </tr>\n",
       "        <tr>\n",
       "            <td>4</td>\n",
       "            <td>salary</td>\n",
       "            <td>decimal(10,2)</td>\n",
       "            <td>1</td>\n",
       "            <td>None</td>\n",
       "            <td>0</td>\n",
       "        </tr>\n",
       "    </tbody>\n",
       "</table>"
      ],
      "text/plain": [
       "[(0, 'employee_id', 'INTEGER', 0, None, 1),\n",
       " (1, 'first_name', 'varchar(50)', 1, None, 0),\n",
       " (2, 'last_name', 'varchar(50)', 1, None, 0),\n",
       " (3, 'department', 'varchar(50)', 1, None, 0),\n",
       " (4, 'salary', 'decimal(10,2)', 1, None, 0)]"
      ]
     },
     "execution_count": 24,
     "metadata": {},
     "output_type": "execute_result"
    }
   ],
   "source": [
    "#Check structure of the table\n",
    "%sql PRAGMA TABLE_INFO('employees');"
   ]
  },
  {
   "cell_type": "code",
   "execution_count": 42,
   "metadata": {},
   "outputs": [
    {
     "name": "stdout",
     "output_type": "stream",
     "text": [
      " * sqlite:///abc-corp.db\n",
      "Done.\n",
      " * sqlite:///abc-corp.db\n",
      "Done.\n",
      " * sqlite:///abc-corp.db\n",
      "Done.\n"
     ]
    },
    {
     "data": {
      "text/plain": [
       "[]"
      ]
     },
     "execution_count": 42,
     "metadata": {},
     "output_type": "execute_result"
    }
   ],
   "source": [
    "#Adding Columns\n",
    "%sql ALTER TABLE employees ADD hiring_date DATE;\n",
    "\n",
    "#Renameing column\n",
    "%sql ALTER TABLE employees RENAME COLUMN hiring_date TO hire_date;\n",
    "\n",
    "#Deleting columns\n",
    "%sql ALTER TABLE employees DROP COLUMN hire_date;"
   ]
  },
  {
   "cell_type": "code",
   "execution_count": 45,
   "metadata": {},
   "outputs": [
    {
     "name": "stdout",
     "output_type": "stream",
     "text": [
      " * sqlite:///abc-corp.db\n",
      "1 rows affected.\n",
      " * sqlite:///abc-corp.db\n",
      "1 rows affected.\n"
     ]
    },
    {
     "data": {
      "text/plain": [
       "[]"
      ]
     },
     "execution_count": 45,
     "metadata": {},
     "output_type": "execute_result"
    }
   ],
   "source": [
    "#Altering data\n",
    "#Inserting data\n",
    "%sql INSERT INTO employees (employee_id,first_name,last_name,department,salary,performance_rating,hire_date) VALUES(1,'Jason','Zhu','IT',10000,5,'2024-04-30');\n",
    "\n",
    "%sql INSERT INTO employees (employee_id,first_name,last_name,department,salary,performance_rating,hire_date) VALUES(2,'Lynn','Lin','IT',10000,5,'2024-04-30');"
   ]
  },
  {
   "cell_type": "code",
   "execution_count": 43,
   "metadata": {},
   "outputs": [
    {
     "name": "stdout",
     "output_type": "stream",
     "text": [
      " * sqlite:///abc-corp.db\n",
      "Done.\n",
      " * sqlite:///abc-corp.db\n",
      "Done.\n"
     ]
    },
    {
     "data": {
      "text/plain": [
       "[]"
      ]
     },
     "execution_count": 43,
     "metadata": {},
     "output_type": "execute_result"
    }
   ],
   "source": [
    "%sql ALTER TABLE employees ADD COLUMN performance_rating INTEGER NULL\n",
    "\n",
    "%sql ALTER TABLE employees ADD COLUMN hire_date date NULL"
   ]
  },
  {
   "cell_type": "code",
   "execution_count": 44,
   "metadata": {},
   "outputs": [
    {
     "name": "stdout",
     "output_type": "stream",
     "text": [
      " * sqlite:///abc-corp.db\n",
      "1 rows affected.\n",
      "1 rows affected.\n",
      "1 rows affected.\n",
      "1 rows affected.\n",
      "1 rows affected.\n",
      "1 rows affected.\n",
      "1 rows affected.\n",
      "1 rows affected.\n",
      "1 rows affected.\n",
      "1 rows affected.\n",
      "1 rows affected.\n",
      "1 rows affected.\n",
      "1 rows affected.\n",
      "1 rows affected.\n",
      "1 rows affected.\n",
      "1 rows affected.\n",
      "1 rows affected.\n",
      "1 rows affected.\n",
      "1 rows affected.\n",
      "1 rows affected.\n",
      "1 rows affected.\n",
      "1 rows affected.\n",
      "1 rows affected.\n",
      "1 rows affected.\n",
      "1 rows affected.\n"
     ]
    },
    {
     "data": {
      "text/plain": [
       "[]"
      ]
     },
     "execution_count": 44,
     "metadata": {},
     "output_type": "execute_result"
    }
   ],
   "source": [
    "%%sql\n",
    "INSERT INTO employees (employee_id, first_name, last_name, department, salary, hire_date, performance_rating)\n",
    "VALUES (6, 'Linda', 'Martinez', 'IT', 70000.00, '2024-04-29', 4);\n",
    "\n",
    "INSERT INTO employees (employee_id, first_name, last_name, department, salary, hire_date, performance_rating)\n",
    "VALUES (7, 'Robert', 'Anderson', 'Finance', 65000.00, '2024-04-30', 3);\n",
    "\n",
    "INSERT INTO employees (employee_id, first_name, last_name, department, salary, hire_date, performance_rating)\n",
    "VALUES (8, 'Patricia', 'Taylor', 'HR', 52000.00, '2024-05-01', 5);\n",
    "\n",
    "INSERT INTO employees (employee_id, first_name, last_name, department, salary, hire_date, performance_rating)\n",
    "VALUES (9, 'Christopher', 'Thomas', 'Marketing', 59000.00, '2024-05-02', 2);\n",
    "\n",
    "INSERT INTO employees (employee_id, first_name, last_name, department, salary, hire_date, performance_rating)\n",
    "VALUES (10, 'Jennifer', 'Lee', 'Sales', 63000.00, '2024-05-03', 3);\n",
    "\n",
    "INSERT INTO employees (employee_id, first_name, last_name, department, salary, hire_date, performance_rating)\n",
    "VALUES (11, 'James', 'White', 'Operations', 56000.00, '2024-05-04', 4);\n",
    "\n",
    "INSERT INTO employees (employee_id, first_name, last_name, department, salary, hire_date, performance_rating)\n",
    "VALUES (12, 'Barbara', 'Harris', 'IT', 68000.00, '2024-05-05', 1);\n",
    "\n",
    "INSERT INTO employees (employee_id, first_name, last_name, department, salary, hire_date, performance_rating)\n",
    "VALUES (13, 'Daniel', 'Clark', 'Finance', 64000.00, '2024-05-06', 5);\n",
    "\n",
    "INSERT INTO employees (employee_id, first_name, last_name, department, salary, hire_date, performance_rating)\n",
    "VALUES (14, 'Nancy', 'Lewis', 'HR', 53000.00, '2024-05-07', 2);\n",
    "\n",
    "INSERT INTO employees (employee_id, first_name, last_name, department, salary, hire_date, performance_rating)\n",
    "VALUES (15, 'Paul', 'Walker', 'Sales', 61000.00, '2024-05-08', 3);\n",
    "\n",
    "INSERT INTO employees (employee_id, first_name, last_name, department, salary, hire_date, performance_rating)\n",
    "VALUES (16, 'Karen', 'Hall', 'Marketing', 60000.00, '2024-05-09', 4);\n",
    "\n",
    "INSERT INTO employees (employee_id, first_name, last_name, department, salary, hire_date, performance_rating)\n",
    "VALUES (17, 'Steven', 'Allen', 'IT', 69000.00, '2024-05-10', 5);\n",
    "\n",
    "INSERT INTO employees (employee_id, first_name, last_name, department, salary, hire_date, performance_rating)\n",
    "VALUES (18, 'Elizabeth', 'Young', 'Finance', 62000.00, '2024-05-11', 2);\n",
    "\n",
    "INSERT INTO employees (employee_id, first_name, last_name, department, salary, hire_date, performance_rating)\n",
    "VALUES (19, 'George', 'King', 'Operations', 57000.00, '2024-05-12', 3);\n",
    "\n",
    "INSERT INTO employees (employee_id, first_name, last_name, department, salary, hire_date, performance_rating)\n",
    "VALUES (20, 'Mary', 'Wright', 'HR', 54000.00, '2024-05-13', 4);\n",
    "\n",
    "INSERT INTO employees (employee_id, first_name, last_name, department, salary, hire_date, performance_rating)\n",
    "VALUES (21, 'Brian', 'Lopez', 'Sales', 62000.00, '2024-05-14', 5);\n",
    "\n",
    "INSERT INTO employees (employee_id, first_name, last_name, department, salary, hire_date, performance_rating)\n",
    "VALUES (22, 'Megan', 'Hill', 'IT', 71000.00, '2024-05-15', 2);\n",
    "\n",
    "INSERT INTO employees (employee_id, first_name, last_name, department, salary, hire_date, performance_rating)\n",
    "VALUES (23, 'Anthony', 'Scott', 'Finance', 66000.00, '2024-05-16', 3);\n",
    "\n",
    "INSERT INTO employees (employee_id, first_name, last_name, department, salary, hire_date, performance_rating)\n",
    "VALUES (24, 'Deborah', 'Green', 'Marketing', 63000.00, '2024-05-17', 4);\n",
    "\n",
    "INSERT INTO employees (employee_id, first_name, last_name, department, salary, hire_date, performance_rating)\n",
    "VALUES (25, 'Larry', 'Adams', 'Operations', 58000.00, '2024-05-18', 5);\n",
    "\n",
    "INSERT INTO employees (employee_id, first_name, last_name, department, salary, hire_date, performance_rating)\n",
    "VALUES (26, 'Sarah', 'Nelson', 'HR', 55000.00, '2024-05-19', 2);\n",
    "\n",
    "INSERT INTO employees (employee_id, first_name, last_name, department, salary, hire_date, performance_rating)\n",
    "VALUES (27, 'Kenneth', 'Carter', 'Sales', 64000.00, '2024-05-20', 3);\n",
    "\n",
    "INSERT INTO employees (employee_id, first_name, last_name, department, salary, hire_date, performance_rating)\n",
    "VALUES (28, 'Betty', 'Mitchell', 'IT', 72000.00, '2024-05-21', 4);\n",
    "\n",
    "INSERT INTO employees (employee_id, first_name, last_name, department, salary, hire_date, performance_rating)\n",
    "VALUES (29, 'Ronald', 'Perez', 'Finance', 67000.00, '2024-05-22', 5);\n",
    "\n",
    "INSERT INTO employees (employee_id, first_name, last_name, department, salary, hire_date, performance_rating)\n",
    "VALUES (30, 'Laura', 'Roberts', 'Marketing', 65000.00, '2024-05-23', 2);"
   ]
  },
  {
   "cell_type": "code",
   "execution_count": 38,
   "metadata": {},
   "outputs": [
    {
     "name": "stdout",
     "output_type": "stream",
     "text": [
      " * sqlite:///abc-corp.db\n",
      "Done.\n"
     ]
    },
    {
     "data": {
      "text/html": [
       "<table>\n",
       "    <thead>\n",
       "        <tr>\n",
       "            <th>employee_id</th>\n",
       "            <th>first_name</th>\n",
       "            <th>last_name</th>\n",
       "            <th>department</th>\n",
       "            <th>salary</th>\n",
       "            <th>performance_rating</th>\n",
       "            <th>hire_date</th>\n",
       "        </tr>\n",
       "    </thead>\n",
       "    <tbody>\n",
       "        <tr>\n",
       "            <td>1</td>\n",
       "            <td>Jason</td>\n",
       "            <td>Zhu</td>\n",
       "            <td>IT</td>\n",
       "            <td>10000</td>\n",
       "            <td>None</td>\n",
       "            <td>None</td>\n",
       "        </tr>\n",
       "        <tr>\n",
       "            <td>2</td>\n",
       "            <td>Lynn</td>\n",
       "            <td>Lin</td>\n",
       "            <td>IT</td>\n",
       "            <td>10000</td>\n",
       "            <td>None</td>\n",
       "            <td>None</td>\n",
       "        </tr>\n",
       "        <tr>\n",
       "            <td>6</td>\n",
       "            <td>Linda</td>\n",
       "            <td>Martinez</td>\n",
       "            <td>IT</td>\n",
       "            <td>70000</td>\n",
       "            <td>4</td>\n",
       "            <td>2024-04-29</td>\n",
       "        </tr>\n",
       "        <tr>\n",
       "            <td>7</td>\n",
       "            <td>Robert</td>\n",
       "            <td>Anderson</td>\n",
       "            <td>Finance</td>\n",
       "            <td>65000</td>\n",
       "            <td>3</td>\n",
       "            <td>2024-04-30</td>\n",
       "        </tr>\n",
       "        <tr>\n",
       "            <td>8</td>\n",
       "            <td>Patricia</td>\n",
       "            <td>Taylor</td>\n",
       "            <td>HR</td>\n",
       "            <td>52000</td>\n",
       "            <td>5</td>\n",
       "            <td>2024-05-01</td>\n",
       "        </tr>\n",
       "        <tr>\n",
       "            <td>9</td>\n",
       "            <td>Christopher</td>\n",
       "            <td>Thomas</td>\n",
       "            <td>Marketing</td>\n",
       "            <td>59000</td>\n",
       "            <td>2</td>\n",
       "            <td>2024-05-02</td>\n",
       "        </tr>\n",
       "        <tr>\n",
       "            <td>10</td>\n",
       "            <td>Jennifer</td>\n",
       "            <td>Lee</td>\n",
       "            <td>Sales</td>\n",
       "            <td>63000</td>\n",
       "            <td>3</td>\n",
       "            <td>2024-05-03</td>\n",
       "        </tr>\n",
       "        <tr>\n",
       "            <td>11</td>\n",
       "            <td>James</td>\n",
       "            <td>White</td>\n",
       "            <td>Operations</td>\n",
       "            <td>56000</td>\n",
       "            <td>4</td>\n",
       "            <td>2024-05-04</td>\n",
       "        </tr>\n",
       "        <tr>\n",
       "            <td>12</td>\n",
       "            <td>Barbara</td>\n",
       "            <td>Harris</td>\n",
       "            <td>IT</td>\n",
       "            <td>68000</td>\n",
       "            <td>1</td>\n",
       "            <td>2024-05-05</td>\n",
       "        </tr>\n",
       "        <tr>\n",
       "            <td>13</td>\n",
       "            <td>Daniel</td>\n",
       "            <td>Clark</td>\n",
       "            <td>Finance</td>\n",
       "            <td>64000</td>\n",
       "            <td>5</td>\n",
       "            <td>2024-05-06</td>\n",
       "        </tr>\n",
       "        <tr>\n",
       "            <td>14</td>\n",
       "            <td>Nancy</td>\n",
       "            <td>Lewis</td>\n",
       "            <td>HR</td>\n",
       "            <td>53000</td>\n",
       "            <td>2</td>\n",
       "            <td>2024-05-07</td>\n",
       "        </tr>\n",
       "        <tr>\n",
       "            <td>15</td>\n",
       "            <td>Paul</td>\n",
       "            <td>Walker</td>\n",
       "            <td>Sales</td>\n",
       "            <td>61000</td>\n",
       "            <td>3</td>\n",
       "            <td>2024-05-08</td>\n",
       "        </tr>\n",
       "        <tr>\n",
       "            <td>16</td>\n",
       "            <td>Karen</td>\n",
       "            <td>Hall</td>\n",
       "            <td>Marketing</td>\n",
       "            <td>60000</td>\n",
       "            <td>4</td>\n",
       "            <td>2024-05-09</td>\n",
       "        </tr>\n",
       "        <tr>\n",
       "            <td>17</td>\n",
       "            <td>Steven</td>\n",
       "            <td>Allen</td>\n",
       "            <td>IT</td>\n",
       "            <td>69000</td>\n",
       "            <td>5</td>\n",
       "            <td>2024-05-10</td>\n",
       "        </tr>\n",
       "        <tr>\n",
       "            <td>18</td>\n",
       "            <td>Elizabeth</td>\n",
       "            <td>Young</td>\n",
       "            <td>Finance</td>\n",
       "            <td>62000</td>\n",
       "            <td>2</td>\n",
       "            <td>2024-05-11</td>\n",
       "        </tr>\n",
       "        <tr>\n",
       "            <td>19</td>\n",
       "            <td>George</td>\n",
       "            <td>King</td>\n",
       "            <td>Operations</td>\n",
       "            <td>57000</td>\n",
       "            <td>3</td>\n",
       "            <td>2024-05-12</td>\n",
       "        </tr>\n",
       "        <tr>\n",
       "            <td>20</td>\n",
       "            <td>Mary</td>\n",
       "            <td>Wright</td>\n",
       "            <td>HR</td>\n",
       "            <td>54000</td>\n",
       "            <td>4</td>\n",
       "            <td>2024-05-13</td>\n",
       "        </tr>\n",
       "        <tr>\n",
       "            <td>21</td>\n",
       "            <td>Brian</td>\n",
       "            <td>Lopez</td>\n",
       "            <td>Sales</td>\n",
       "            <td>62000</td>\n",
       "            <td>5</td>\n",
       "            <td>2024-05-14</td>\n",
       "        </tr>\n",
       "        <tr>\n",
       "            <td>22</td>\n",
       "            <td>Megan</td>\n",
       "            <td>Hill</td>\n",
       "            <td>IT</td>\n",
       "            <td>71000</td>\n",
       "            <td>2</td>\n",
       "            <td>2024-05-15</td>\n",
       "        </tr>\n",
       "        <tr>\n",
       "            <td>23</td>\n",
       "            <td>Anthony</td>\n",
       "            <td>Scott</td>\n",
       "            <td>Finance</td>\n",
       "            <td>66000</td>\n",
       "            <td>3</td>\n",
       "            <td>2024-05-16</td>\n",
       "        </tr>\n",
       "        <tr>\n",
       "            <td>24</td>\n",
       "            <td>Deborah</td>\n",
       "            <td>Green</td>\n",
       "            <td>Marketing</td>\n",
       "            <td>63000</td>\n",
       "            <td>4</td>\n",
       "            <td>2024-05-17</td>\n",
       "        </tr>\n",
       "        <tr>\n",
       "            <td>25</td>\n",
       "            <td>Larry</td>\n",
       "            <td>Adams</td>\n",
       "            <td>Operations</td>\n",
       "            <td>58000</td>\n",
       "            <td>5</td>\n",
       "            <td>2024-05-18</td>\n",
       "        </tr>\n",
       "        <tr>\n",
       "            <td>26</td>\n",
       "            <td>Sarah</td>\n",
       "            <td>Nelson</td>\n",
       "            <td>HR</td>\n",
       "            <td>55000</td>\n",
       "            <td>2</td>\n",
       "            <td>2024-05-19</td>\n",
       "        </tr>\n",
       "        <tr>\n",
       "            <td>27</td>\n",
       "            <td>Kenneth</td>\n",
       "            <td>Carter</td>\n",
       "            <td>Sales</td>\n",
       "            <td>64000</td>\n",
       "            <td>3</td>\n",
       "            <td>2024-05-20</td>\n",
       "        </tr>\n",
       "        <tr>\n",
       "            <td>28</td>\n",
       "            <td>Betty</td>\n",
       "            <td>Mitchell</td>\n",
       "            <td>IT</td>\n",
       "            <td>72000</td>\n",
       "            <td>4</td>\n",
       "            <td>2024-05-21</td>\n",
       "        </tr>\n",
       "        <tr>\n",
       "            <td>29</td>\n",
       "            <td>Ronald</td>\n",
       "            <td>Perez</td>\n",
       "            <td>Finance</td>\n",
       "            <td>67000</td>\n",
       "            <td>5</td>\n",
       "            <td>2024-05-22</td>\n",
       "        </tr>\n",
       "        <tr>\n",
       "            <td>30</td>\n",
       "            <td>Laura</td>\n",
       "            <td>Roberts</td>\n",
       "            <td>Marketing</td>\n",
       "            <td>65000</td>\n",
       "            <td>2</td>\n",
       "            <td>2024-05-23</td>\n",
       "        </tr>\n",
       "    </tbody>\n",
       "</table>"
      ],
      "text/plain": [
       "[(1, 'Jason', 'Zhu', 'IT', 10000, None, None),\n",
       " (2, 'Lynn', 'Lin', 'IT', 10000, None, None),\n",
       " (6, 'Linda', 'Martinez', 'IT', 70000, 4, '2024-04-29'),\n",
       " (7, 'Robert', 'Anderson', 'Finance', 65000, 3, '2024-04-30'),\n",
       " (8, 'Patricia', 'Taylor', 'HR', 52000, 5, '2024-05-01'),\n",
       " (9, 'Christopher', 'Thomas', 'Marketing', 59000, 2, '2024-05-02'),\n",
       " (10, 'Jennifer', 'Lee', 'Sales', 63000, 3, '2024-05-03'),\n",
       " (11, 'James', 'White', 'Operations', 56000, 4, '2024-05-04'),\n",
       " (12, 'Barbara', 'Harris', 'IT', 68000, 1, '2024-05-05'),\n",
       " (13, 'Daniel', 'Clark', 'Finance', 64000, 5, '2024-05-06'),\n",
       " (14, 'Nancy', 'Lewis', 'HR', 53000, 2, '2024-05-07'),\n",
       " (15, 'Paul', 'Walker', 'Sales', 61000, 3, '2024-05-08'),\n",
       " (16, 'Karen', 'Hall', 'Marketing', 60000, 4, '2024-05-09'),\n",
       " (17, 'Steven', 'Allen', 'IT', 69000, 5, '2024-05-10'),\n",
       " (18, 'Elizabeth', 'Young', 'Finance', 62000, 2, '2024-05-11'),\n",
       " (19, 'George', 'King', 'Operations', 57000, 3, '2024-05-12'),\n",
       " (20, 'Mary', 'Wright', 'HR', 54000, 4, '2024-05-13'),\n",
       " (21, 'Brian', 'Lopez', 'Sales', 62000, 5, '2024-05-14'),\n",
       " (22, 'Megan', 'Hill', 'IT', 71000, 2, '2024-05-15'),\n",
       " (23, 'Anthony', 'Scott', 'Finance', 66000, 3, '2024-05-16'),\n",
       " (24, 'Deborah', 'Green', 'Marketing', 63000, 4, '2024-05-17'),\n",
       " (25, 'Larry', 'Adams', 'Operations', 58000, 5, '2024-05-18'),\n",
       " (26, 'Sarah', 'Nelson', 'HR', 55000, 2, '2024-05-19'),\n",
       " (27, 'Kenneth', 'Carter', 'Sales', 64000, 3, '2024-05-20'),\n",
       " (28, 'Betty', 'Mitchell', 'IT', 72000, 4, '2024-05-21'),\n",
       " (29, 'Ronald', 'Perez', 'Finance', 67000, 5, '2024-05-22'),\n",
       " (30, 'Laura', 'Roberts', 'Marketing', 65000, 2, '2024-05-23')]"
      ]
     },
     "execution_count": 38,
     "metadata": {},
     "output_type": "execute_result"
    }
   ],
   "source": [
    "%sql SELECT * FROM employees"
   ]
  },
  {
   "cell_type": "code",
   "execution_count": 39,
   "metadata": {},
   "outputs": [
    {
     "name": "stdout",
     "output_type": "stream",
     "text": [
      " * sqlite:///abc-corp.db\n",
      "1 rows affected.\n"
     ]
    },
    {
     "data": {
      "text/plain": [
       "[]"
      ]
     },
     "execution_count": 39,
     "metadata": {},
     "output_type": "execute_result"
    }
   ],
   "source": [
    "%%sql UPDATE employees \n",
    "set salary=8000 \n",
    "WHERE employee_id=1;"
   ]
  },
  {
   "cell_type": "code",
   "execution_count": null,
   "metadata": {},
   "outputs": [],
   "source": [
    "%%sql DELETE FROM employees\n",
    "WHERE employee_id=30;"
   ]
  }
 ],
 "metadata": {
  "kernelspec": {
   "display_name": "Python 3",
   "language": "python",
   "name": "python3"
  },
  "language_info": {
   "codemirror_mode": {
    "name": "ipython",
    "version": 3
   },
   "file_extension": ".py",
   "mimetype": "text/x-python",
   "name": "python",
   "nbconvert_exporter": "python",
   "pygments_lexer": "ipython3",
   "version": "3.12.3"
  }
 },
 "nbformat": 4,
 "nbformat_minor": 2
}
