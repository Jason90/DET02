{
 "cells": [
  {
   "cell_type": "markdown",
   "metadata": {},
   "source": [
    "# **Python Key Points**\n",
    "1. **Interpreted Language**: Python is an interpreted language, which means that code is executed line by line by the Python interpreter. This allows for easier debugging and faster development cycles.\n",
    "2. **High-Level Language**: Python is designed to be human-readable and has a simple and easy-to-learn syntax. This makes it suitable for beginners and experienced programmers alike.\n",
    "3. **Dynamically Typed**: Python is dynamically typed, meaning that you don't need to declare variable types explicitly. The type of a variable is inferred at runtime based on the value assigned to it.\n",
    "4. **Indentation**: Python uses indentation to define code blocks instead of curly braces or keywords like begin and end. This enforces clean and readable code but can also lead to syntax errors if not used correctly.\n",
    "5. **Object-Oriented**: Python supports object-oriented programming (OOP) principles such as encapsulation, inheritance, and polymorphism. Everything in Python is an object, including integers, strings, functions, and classes.\n",
    "6. **Functional Programming Features**: While primarily an object-oriented language, Python also supports functional programming paradigms. It includes features like lambda functions, map, filter, and reduce functions, as well as support for list comprehensions.\n",
    "7. **Platform Independent**: Python code can run on any platform with a Python interpreter installed, including Windows, macOS, Linux, and UNIX. This makes Python highly portable and adaptable to different environments.\n",
    "8. **Community and Ecosystem**: Python has a large and active community of developers who contribute to its ecosystem by creating libraries, frameworks, and tools. This vibrant ecosystem makes it easy to find solutions to problems and accelerates development.\n",
    "9. **Versatile Usage**: Python is used for a wide range of applications, including web development, data science, machine learning, artificial intelligence, scientific computing, automation, scripting, and more. Its versatility and ease of use make it a popular choice across industries."
   ]
  },
  {
   "cell_type": "code",
   "execution_count": 64,
   "metadata": {},
   "outputs": [
    {
     "name": "stdout",
     "output_type": "stream",
     "text": [
      "Hello World!\n"
     ]
    }
   ],
   "source": [
    "print(\"Hello World!\")"
   ]
  },
  {
   "cell_type": "markdown",
   "metadata": {},
   "source": [
    "## **Commenting**\n",
    "Commenting is the process of adding annotations or remarks within your code to provide explanations, context, or documentation. Comments are not executed by the interpreter/compiler and are purely for the benefit of developers reading the code.\n",
    "\n",
    "#### **Types of Comments:**"
   ]
  },
  {
   "cell_type": "markdown",
   "metadata": {},
   "source": [
    "- **Single-Line Comments:** These comments start with a specific character (e.g., # in Python) and continue until the end of the line. They are suitable for brief annotations or remarks on individual lines of code."
   ]
  },
  {
   "cell_type": "code",
   "execution_count": 65,
   "metadata": {},
   "outputs": [],
   "source": [
    "# This is a single line comment."
   ]
  },
  {
   "cell_type": "markdown",
   "metadata": {},
   "source": [
    "- **Multi-Line Comments:** While many programming languages support multi-line comments, Python does not have an explicit syntax for them. However, multi-line strings (docstrings) enclosed in triple quotes (\"\"\") are often used for this purpose. They are primarily intended for documenting modules, classes, functions, and methods."
   ]
  },
  {
   "cell_type": "code",
   "execution_count": 66,
   "metadata": {},
   "outputs": [
    {
     "name": "stdout",
     "output_type": "stream",
     "text": [
      "This is a message that will be displayed.\n"
     ]
    }
   ],
   "source": [
    "\"\"\"\n",
    "    This is \n",
    "    a multi-line comment\n",
    "\"\"\"\n",
    "print(\"This is a message that will be displayed.\")"
   ]
  },
  {
   "cell_type": "markdown",
   "metadata": {},
   "source": [
    "- **Inline Comments:** Inline comments appear on the same line as code and provide additional context or explanation for that specific line of code. However, excessive use of inline comments can clutter the code and reduce readability, so they should be used sparingly and only when necessary."
   ]
  },
  {
   "cell_type": "code",
   "execution_count": 67,
   "metadata": {},
   "outputs": [
    {
     "name": "stdout",
     "output_type": "stream",
     "text": [
      "This message will be displayed.\n"
     ]
    }
   ],
   "source": [
    "print(\"This message will be displayed.\") # This is a inline comment\n"
   ]
  },
  {
   "cell_type": "markdown",
   "metadata": {},
   "source": [
    "## **Variables**\n",
    "\n",
    "#### **Creating Variables**\n",
    "\n",
    "Creating a variable in Python is simple. You assign a value to a variable name and start using it. Python figures out the variable type automatically.\n",
    "\n",
    "#### **Variable Naming Rules**\n",
    "- Variable names can contain letters (both uppercase and lowercase), digits, and underscores.\n",
    "- They must begin with a letter or an underscore (_), but not with a digit.\n",
    "- Case sensitive (myVar and myvar are different variables)\n",
    "- Python keywords cannot be used as variable names."
   ]
  },
  {
   "cell_type": "code",
   "execution_count": 68,
   "metadata": {},
   "outputs": [
    {
     "name": "stdout",
     "output_type": "stream",
     "text": [
      "Number: 30\n",
      "first_name: Jason\n",
      "First Name: Lynn\n"
     ]
    }
   ],
   "source": [
    "number = 30\n",
    "print(\"Number:\",number)\n",
    "\n",
    "# Snake-Case Variable Nameing Convention\n",
    "first_name=\"Jason\"\n",
    "print(\"first_name:\", first_name)\n",
    "\n",
    "First_Name=\"Lynn\"\n",
    "print(\"First Name:\", First_Name)"
   ]
  },
  {
   "cell_type": "markdown",
   "metadata": {},
   "source": [
    "## **Numeric Data Types**\n",
    "\n",
    "- **int** - Integer values, such as `5`, `-3`, `1000`, etc."
   ]
  },
  {
   "cell_type": "code",
   "execution_count": 69,
   "metadata": {},
   "outputs": [
    {
     "name": "stdout",
     "output_type": "stream",
     "text": [
      "30\n",
      "-30\n",
      "Data Type of Positive Integer: <class 'int'>\n"
     ]
    }
   ],
   "source": [
    "positive_integer=30\n",
    "nagative_integer=-30\n",
    "\n",
    "print(positive_integer)\n",
    "print(nagative_integer)\n",
    "\n",
    "print(\"Data Type of Positive Integer:\" ,type(positive_integer))"
   ]
  },
  {
   "cell_type": "markdown",
   "metadata": {},
   "source": [
    "- **float** - Floating-point values, representing decimal numbers, such as `3.14`, `-0.001`, `2.0`, etc."
   ]
  },
  {
   "cell_type": "code",
   "execution_count": null,
   "metadata": {},
   "outputs": [],
   "source": []
  },
  {
   "cell_type": "code",
   "execution_count": 70,
   "metadata": {},
   "outputs": [
    {
     "name": "stdout",
     "output_type": "stream",
     "text": [
      "3.14\n",
      "-3.14\n"
     ]
    }
   ],
   "source": [
    "positive_fload=3.14\n",
    "negative_float=-3.14\n",
    "\n",
    "print(positive_fload)\n",
    "print(negative_float)"
   ]
  },
  {
   "cell_type": "markdown",
   "metadata": {},
   "source": [
    "## **Operators and Expressions**\n",
    "\n",
    "### **Arithmetic Operators**"
   ]
  },
  {
   "cell_type": "code",
   "execution_count": 71,
   "metadata": {},
   "outputs": [
    {
     "name": "stdout",
     "output_type": "stream",
     "text": [
      "Addition (+) 15\n",
      "Substraction (-) 5\n",
      "Multiplication (*) 50\n",
      "Division (/) 2.0\n",
      "Remainder (%): 4\n",
      "Exponent (**): 100000\n",
      "28.0\n"
     ]
    }
   ],
   "source": [
    "num1=10\n",
    "num2=5\n",
    "\n",
    "print(\"Addition (+)\",num1+num2)\n",
    "print(\"Substraction (-)\",num1-num2)\n",
    "print(\"Multiplication (*)\",num1*num2)\n",
    "print(\"Division (/)\",num1/num2)\n",
    "# Remainder\n",
    "print(\"Remainder (%):\", num1%6)\n",
    "print(\"Exponent (**):\", num1**num2)\n",
    "\n",
    "# Order of Operations\n",
    "# PEMDAS / BODMAS\n",
    "print(10 + 8 / 4 * (5 - 2) ** 2)"
   ]
  },
  {
   "cell_type": "markdown",
   "metadata": {},
   "source": [
    "### **Assignment Operators**"
   ]
  },
  {
   "cell_type": "code",
   "execution_count": 72,
   "metadata": {},
   "outputs": [
    {
     "name": "stdout",
     "output_type": "stream",
     "text": [
      "The new value of num3: 15\n",
      "The new value of num3: 10\n",
      "The new value of num3: 50\n",
      "The new value of num3: 10.0\n"
     ]
    }
   ],
   "source": [
    "# Single Equal Sign\n",
    "num3 = 10\n",
    "num4 = 5\n",
    "# Addition Assignment (+=)\n",
    "# num3 = num3 + num4\n",
    "num3 += num4\n",
    "print(\"The new value of num3:\", num3)\n",
    "# Computation: 10 + 5 = 15\n",
    "# Subtraction Assignment (-=)\n",
    "num3 -= num4\n",
    "print(\"The new value of num3:\", num3)\n",
    "# Computation: 15 - 5 = 10\n",
    "# Multiplication Assignment (*=)\n",
    "num3 *= num4\n",
    "print(\"The new value of num3:\", num3)\n",
    "# Computation: 10 * 5 = 50\n",
    "# Division Assignment (/=)\n",
    "num3 /= num4\n",
    "print(\"The new value of num3:\", num3)\n",
    "# Computation: 50 / 5 = 10"
   ]
  },
  {
   "cell_type": "markdown",
   "metadata": {},
   "source": [
    "## **Boolean Data Type**\n",
    "- **bool**: Boolean values representing True or False."
   ]
  },
  {
   "cell_type": "code",
   "execution_count": 73,
   "metadata": {},
   "outputs": [
    {
     "name": "stdout",
     "output_type": "stream",
     "text": [
      "Is the user a student? True\n",
      "Is the user an admin? False\n"
     ]
    }
   ],
   "source": [
    "is_student = True\n",
    "is_admin = False\n",
    "print(\"Is the user a student?\", is_student)\n",
    "print(\"Is the user an admin?\", is_admin)"
   ]
  },
  {
   "cell_type": "markdown",
   "metadata": {},
   "source": [
    "### **Comparison Operators**"
   ]
  },
  {
   "cell_type": "code",
   "execution_count": 74,
   "metadata": {},
   "outputs": [
    {
     "name": "stdout",
     "output_type": "stream",
     "text": [
      "Equal to (==): False\n",
      "Not Equal to (!=): True\n",
      "Greater Than (>): True\n",
      "Less Than (<): False\n",
      "Greater Than or Equal to (>=): True\n",
      "Less Than or Equal to (<=): True\n"
     ]
    }
   ],
   "source": [
    "num5 = 10\n",
    "num6 = 5\n",
    "print(\"Equal to (==):\", num5 == num6)\n",
    "print(\"Not Equal to (!=):\", num5 != num6)\n",
    "print(\"Greater Than (>):\", num5 > num6)\n",
    "print(\"Less Than (<):\", num5 < num6)\n",
    "print(\"Greater Than or Equal to (>=):\", num5 >= 8)\n",
    "print(\"Less Than or Equal to (<=):\", num5 <= 10)"
   ]
  },
  {
   "cell_type": "markdown",
   "metadata": {},
   "source": [
    "### **Logical Operators**"
   ]
  },
  {
   "cell_type": "code",
   "execution_count": 75,
   "metadata": {},
   "outputs": [
    {
     "name": "stdout",
     "output_type": "stream",
     "text": [
      "Is it sunny AND warm?: True\n",
      "Is it sunny OR warm?: True\n",
      "Not Sunny: False\n"
     ]
    }
   ],
   "source": [
    "# and, or, not\n",
    "sunny = True\n",
    "warm = True\n",
    "# and: True if all of your conditions is met, otherwise, False\n",
    "print(\"Is it sunny AND warm?:\", sunny and warm)\n",
    "# or: True if atleast one of your condition is met, otherwise, False\n",
    "print(\"Is it sunny OR warm?:\", sunny or warm)\n",
    "# not: Invert the value of a boolean.\n",
    "print(\"Not Sunny:\", not sunny)"
   ]
  },
  {
   "cell_type": "markdown",
   "metadata": {},
   "source": [
    "## **Strings and String Methods**\n",
    "\n",
    "Strings are sequences of characters and are among the most used data types in Python, especially in data analytics for processing text data.\n",
    "\n",
    "#### **Introduction to Strings**\n",
    "\n",
    "Strings in Python are created by enclosing characters in quotes. Python treats single quotes (') and double quotes (\") as the same, allowing you to incorporate one type of quote within another including an apostrophe within a string.\n",
    "\n",
    "#### **Creating and Accessing Strings**"
   ]
  },
  {
   "cell_type": "code",
   "execution_count": 76,
   "metadata": {},
   "outputs": [
    {
     "name": "stdout",
     "output_type": "stream",
     "text": [
      "John Doe\n",
      "First Character: H\n",
      "Last Character: .\n",
      "Last Character: .\n",
      "Length of Message: 28\n"
     ]
    }
   ],
   "source": [
    "first_name = \"John\"\n",
    "last_name = 'Doe'\n",
    "print(first_name, last_name)\n",
    "\n",
    "# Indexing\n",
    "message = \"Hello Python! I love Python.\"\n",
    "print(\"First Character:\", message[0])\n",
    "print(\"Last Character:\", message[-1])\n",
    "print(\"Last Character:\", message[len(message) - 1])\n",
    "print(\"Length of Message:\", len(message))"
   ]
  },
  {
   "cell_type": "markdown",
   "metadata": {},
   "source": [
    "### **String Methods**"
   ]
  },
  {
   "cell_type": "code",
   "execution_count": 77,
   "metadata": {},
   "outputs": [
    {
     "name": "stdout",
     "output_type": "stream",
     "text": [
      "Capitalize: Data analytics\n",
      "Title: Data Analytics\n",
      "Uppercase: DATA ANALYTICS\n",
      "Lowercase: data analytics\n"
     ]
    }
   ],
   "source": [
    "course = \"data analytics\"\n",
    "\n",
    "print(\"Capitalize:\",course.capitalize())\n",
    "print(\"Title:\",course.title())\n",
    "print(\"Uppercase:\",course.upper())\n",
    "print(\"Lowercase:\",course.lower())"
   ]
  },
  {
   "cell_type": "code",
   "execution_count": 78,
   "metadata": {},
   "outputs": [
    {
     "name": "stdout",
     "output_type": "stream",
     "text": [
      "Find Analytics in Course: 5\n",
      "Find a: 1\n",
      "Find Web Development in Course: -1\n",
      "Is analytics in course: True\n",
      "Is web development in course: False\n"
     ]
    }
   ],
   "source": [
    "# Searching for a certain Character\n",
    "print(\"Find Analytics in Course:\", course.find(\"analytics\"))\n",
    "print(\"Find a:\", course.find(\"a\"))\n",
    "print(\"Find Web Development in Course:\", course.find(\"web development\")) # web development doesn't exist in the string: RETURN: -1\n",
    "\n",
    "print(\"Is analytics in course:\", \"analytics\" in course)\n",
    "print(\"Is web development in course:\", \"web development\" in course)\n"
   ]
  },
  {
   "cell_type": "markdown",
   "metadata": {},
   "source": [
    "### **Concatenation, Formatted String, and .format() Method**"
   ]
  },
  {
   "cell_type": "markdown",
   "metadata": {},
   "source": [
    "- **Concatenation**"
   ]
  },
  {
   "cell_type": "code",
   "execution_count": 79,
   "metadata": {},
   "outputs": [
    {
     "name": "stdout",
     "output_type": "stream",
     "text": [
      "Concatenation: Jason Zhu\n"
     ]
    }
   ],
   "source": [
    "first_name=\"Jason\"\n",
    "last_name=\"Zhu\"\n",
    "\n",
    "print(\"Concatenation:\",first_name+ \" \"+last_name)"
   ]
  },
  {
   "cell_type": "markdown",
   "metadata": {},
   "source": [
    "- **Formatted Strings Literals (f-strings)** "
   ]
  },
  {
   "cell_type": "code",
   "execution_count": 80,
   "metadata": {},
   "outputs": [
    {
     "name": "stdout",
     "output_type": "stream",
     "text": [
      "Formatted strings: Jason Zhu.\n"
     ]
    }
   ],
   "source": [
    "print(f\"Formatted strings: {first_name} {last_name}.\")"
   ]
  },
  {
   "cell_type": "markdown",
   "metadata": {},
   "source": [
    "- **.format() method**"
   ]
  },
  {
   "cell_type": "code",
   "execution_count": 81,
   "metadata": {},
   "outputs": [
    {
     "name": "stdout",
     "output_type": "stream",
     "text": [
      "Hello my name is Jason Zhu! \n",
      "My occupation is Software engineer.\n"
     ]
    }
   ],
   "source": [
    "introduction=\"\"\"Hello my name is {first_name} {last_name}! \n",
    "My occupation is {occupation}.\"\"\"\n",
    "\n",
    "print(introduction.format(first_name=\"Jason\",last_name=\"Zhu\", occupation=\"Software engineer\"))"
   ]
  },
  {
   "cell_type": "markdown",
   "metadata": {},
   "source": [
    "## **Lists and List Methods**\n",
    "\n",
    "#### **Introduction to Lists**\n",
    "\n",
    "Lists are mutable sequences, meaning you can modify them after creation. They can contain items of any type, making them incredibly versatile for data collection and manipulation tasks.\n",
    "\n",
    "- Mutability: Lists are mutable, meaning their elements can be changed after creation.\n",
    "- Syntax: Lists are enclosed in square brackets ([]), and elements are separated by commas.\n",
    "- Indexing and Ordering: Lists are ordered collections, preserving the order of elements. Elements can be accessed using indices.\n",
    "- Usage: Lists are suitable for mutable sequences of items, like arrays, stacks, or queues.\n",
    "\n",
    "#### **Creating and Modifying Lists**"
   ]
  },
  {
   "cell_type": "code",
   "execution_count": 82,
   "metadata": {},
   "outputs": [
    {
     "name": "stdout",
     "output_type": "stream",
     "text": [
      "Fruits: ['Apple', 'Banana', 'Cherry']\n",
      "Numbers: [1, 2, 3, 4, 5]\n",
      "Mixed List: [1, 'Apple', 2, 'Banana', 3, 'Cherry', 3.14, 'Mango', True, False]\n"
     ]
    }
   ],
   "source": [
    "numbers = [1, 2, 3, 4, 5]\n",
    "fruits = [\"Apple\", \"Banana\", \"Cherry\"]\n",
    "mixed_list = [1, \"Apple\", 2, \"Banana\", 3, \"Cherry\", \n",
    "                      3.14, \"Mango\", True, False]\n",
    "print(\"Fruits:\", fruits)\n",
    "print(\"Numbers:\", numbers)\n",
    "print(\"Mixed List:\", mixed_list)"
   ]
  },
  {
   "cell_type": "markdown",
   "metadata": {},
   "source": [
    "#### **List Methods**"
   ]
  },
  {
   "cell_type": "code",
   "execution_count": 83,
   "metadata": {},
   "outputs": [
    {
     "name": "stdout",
     "output_type": "stream",
     "text": [
      "First Element: Apple\n",
      "Last Element: Cherry\n",
      "Last Element: Cherry\n",
      "Fruits: ['Banana', 'Cherry']\n",
      "Numbers: [2, 3, 4]\n",
      "By Twos: [1, 3, 5]\n",
      "Reverse the list: [5, 4, 3, 2, 1]\n",
      "Length of mixed list: 10\n",
      "Data Type: <class 'list'>\n"
     ]
    }
   ],
   "source": [
    "# List Indexing\n",
    "print(\"First Element:\", fruits[0])\n",
    "print(\"Last Element:\", fruits[-1])\n",
    "print(\"Last Element:\", fruits[len(fruits) - 1])\n",
    "# List Slicing\n",
    "# [starting_index:ending_index(exluded):step/traversal]\n",
    "print(\"Fruits:\", fruits[1:])\n",
    "print(\"Numbers:\", numbers[1:4])\n",
    "print(\"By Twos:\", numbers[::2])\n",
    "print(\"Reverse the list:\",numbers[::-1])\n",
    "\n",
    "print(\"Length of mixed list:\",len(mixed_list))\n",
    "print(\"Data Type:\" , type(mixed_list))"
   ]
  },
  {
   "cell_type": "markdown",
   "metadata": {},
   "source": [
    "#### **List Extending**"
   ]
  },
  {
   "cell_type": "code",
   "execution_count": 85,
   "metadata": {},
   "outputs": [
    {
     "name": "stdout",
     "output_type": "stream",
     "text": [
      "Append: ['Python', 'JavaScript', 'PHP', 'Java', 'C++']\n",
      "Append: ['Python', 'JavaScript', 'Ruby', 'PHP', 'Java', 'C++']\n",
      "Append: ['Python', 'JavaScript', 'Ruby', 'PHP', 'Java']\n",
      "Append: ['Python', 'JavaScript', 'Ruby', 'Java']\n"
     ]
    }
   ],
   "source": [
    "programing_languages=[\"Python\",\"JavaScript\",\"PHP\",\"Java\"]\n",
    "\n",
    "# Add, append\n",
    "programing_languages.append(\"C++\")\n",
    "print(\"Append:\",programing_languages)\n",
    "\n",
    "#Insert(index, elemnet)\n",
    "programing_languages.insert(2,\"Ruby\")\n",
    "print(\"Append:\",programing_languages)\n",
    "\n",
    "#Delete: pop()\n",
    "programing_languages.pop()\n",
    "print(\"Append:\",programing_languages)\n",
    "\n",
    "programing_languages.pop(3)\n",
    "print(\"Append:\",programing_languages)\n",
    "\n",
    "list_of_letters=['a','b','c','d','e']\n",
    "list_of_numbers=[1,2,3,4,5]\n",
    "\n",
    "list_of_letters.extend(list_of_numbers)\n",
    "print(\"extending:\",list_of_letters)\n"
   ]
  },
  {
   "cell_type": "markdown",
   "metadata": {},
   "source": [
    "#### **Sorting List**"
   ]
  },
  {
   "cell_type": "code",
   "execution_count": 87,
   "metadata": {},
   "outputs": [
    {
     "name": "stdout",
     "output_type": "stream",
     "text": [
      "[1, 2, 3, 5, 5, 7, 8, 9]\n"
     ]
    }
   ],
   "source": [
    "another_list_of_number=[9,1,3,5,2,5,7,8]\n",
    "another_list_of_number.sort()\n",
    "print(another_list_of_number)\n",
    "\n",
    "another_list_of_number.sort(reverse=True)\n",
    "\n",
    "another_list_of_number.reverse()\n",
    "\n",
    "another_list_of_number[0]=\"Nine\""
   ]
  },
  {
   "cell_type": "markdown",
   "metadata": {},
   "source": [
    "## **Tuples**\n",
    "\n",
    "**Introduction to Tuples**\n",
    "\n",
    "Tuples are ordered collections of items, just like lists. However, their immutability makes them useful for fixed data sequences and can serve as keys in dictionaries due to their hashable nature.\n",
    "\n",
    "- Mutability: Tuples are immutable, meaning their elements cannot be changed after creation.\n",
    "- Syntax: Tuples are enclosed in parentheses (()), and elements are separated by commas.\n",
    "- Indexing and Ordering: Tuples are ordered collections, preserving the order of elements. Elements can be accessed using indices.\n",
    "- Usage: Tuples are suitable for immutable sequences, often used for fixed collections of data.\n",
    "\n",
    "#### **Creating a tuple**"
   ]
  },
  {
   "cell_type": "code",
   "execution_count": 88,
   "metadata": {},
   "outputs": [
    {
     "name": "stdout",
     "output_type": "stream",
     "text": [
      "(1, 2, 3, 4, 5)\n"
     ]
    }
   ],
   "source": [
    "numbers_tuple=(1,2,3,4,5)\n",
    "print(numbers_tuple)\n"
   ]
  },
  {
   "cell_type": "markdown",
   "metadata": {},
   "source": [
    "#### **Accessing Elements**"
   ]
  },
  {
   "cell_type": "code",
   "execution_count": null,
   "metadata": {},
   "outputs": [],
   "source": [
    "print(numbers_tuple[0])"
   ]
  },
  {
   "cell_type": "markdown",
   "metadata": {},
   "source": [
    "#### **Tuple Immutability**"
   ]
  },
  {
   "cell_type": "code",
   "execution_count": 89,
   "metadata": {},
   "outputs": [
    {
     "ename": "TypeError",
     "evalue": "'tuple' object does not support item assignment",
     "output_type": "error",
     "traceback": [
      "\u001b[1;31m---------------------------------------------------------------------------\u001b[0m",
      "\u001b[1;31mTypeError\u001b[0m                                 Traceback (most recent call last)",
      "Cell \u001b[1;32mIn[89], line 1\u001b[0m\n\u001b[1;32m----> 1\u001b[0m \u001b[43mnumbers_tuple\u001b[49m\u001b[43m[\u001b[49m\u001b[38;5;241;43m0\u001b[39;49m\u001b[43m]\u001b[49m\u001b[38;5;241m=\u001b[39m\u001b[38;5;124m\"\u001b[39m\u001b[38;5;124mone\u001b[39m\u001b[38;5;124m\"\u001b[39m\n",
      "\u001b[1;31mTypeError\u001b[0m: 'tuple' object does not support item assignment"
     ]
    }
   ],
   "source": [
    "#numbers_tuple[0]=\"one\"\n"
   ]
  },
  {
   "cell_type": "markdown",
   "metadata": {},
   "source": [
    "## **Dictionaries and Dictionary Methods**\n",
    "\n",
    "#### **Introduction to Dictionaries**\n",
    "\n",
    "Dictionaries in Python are unordered collections of items. While lists are indexed by a range of numbers, dictionaries are indexed by keys, which can be any immutable type; strings and numbers can always be keys.\n",
    "- Mutability: Dictionaries are mutable, meaning they can be modified by adding, updating, or removing key-value pairs.\n",
    "- Syntax: Dictionaries are enclosed in curly braces ({}), with key-value pairs separated by colons (:) and items separated by commas.\n",
    "- Indexing and Ordering: Dictionaries are unordered collections, and elements are accessed using keys rather than indices.\n",
    "- Usage: Dictionaries are suitable for key-value mappings, efficient lookup, and representing structured data\n",
    "\n",
    "#### **Creating a dictionary and accessing values**"
   ]
  },
  {
   "cell_type": "code",
   "execution_count": 91,
   "metadata": {},
   "outputs": [
    {
     "name": "stdout",
     "output_type": "stream",
     "text": [
      "{'first_name': 'Jason', 'last_name': 'Zhu', 'age': 40, 'skills': ['c#', 'python']}\n",
      "<class 'dict'>\n"
     ]
    }
   ],
   "source": [
    "dictionary_person={\n",
    "    \"first_name\":\"Jason\",\n",
    "    \"last_name\":\"Zhu\",\n",
    "    \"age\":40,\n",
    "    \"skills\":[\"c#\",\"python\"]\n",
    "}\n",
    "\n",
    "print(dictionary_person)\n",
    "print(type(dictionary_person))"
   ]
  },
  {
   "cell_type": "markdown",
   "metadata": {},
   "source": [
    "#### **Dictionary Methods**"
   ]
  },
  {
   "cell_type": "code",
   "execution_count": 97,
   "metadata": {},
   "outputs": [
    {
     "name": "stdout",
     "output_type": "stream",
     "text": [
      "Jason\n",
      "Jason\n",
      "None\n",
      "dict_keys(['first_name', 'last_name', 'age', 'skills'])\n",
      "dict_values(['Jason', 'Zhu', 40, ['c#', 'python']])\n",
      "dict_items([('first_name', 'Jason'), ('last_name', 'Zhu'), ('age', 40), ('skills', ['c#', 'python'])])\n"
     ]
    }
   ],
   "source": [
    "print(dictionary_person[\"first_name\"])\n",
    "# print(dictionary_person[\"gender\"])\n",
    "\n",
    "print(dictionary_person.get(\"first_name\"))\n",
    "print(dictionary_person.get(\"gender\"))\n",
    "\n",
    "print(dictionary_person.keys())\n",
    "print(dictionary_person.values())\n",
    "print(dictionary_person.items())"
   ]
  },
  {
   "cell_type": "markdown",
   "metadata": {},
   "source": [
    "## **Control Flow and Statements**"
   ]
  },
  {
   "cell_type": "markdown",
   "metadata": {},
   "source": [
    "#### **Conditional Statements:** \n",
    "Allow us to execute different blocks of code based on a condition.\n",
    "\n",
    "- **if, elif, else statements**"
   ]
  },
  {
   "cell_type": "code",
   "execution_count": 98,
   "metadata": {},
   "outputs": [
    {
     "name": "stdout",
     "output_type": "stream",
     "text": [
      "1\n"
     ]
    }
   ],
   "source": [
    "if(True):\n",
    "    print(1)\n",
    "else:\n",
    "    print(0)"
   ]
  },
  {
   "cell_type": "markdown",
   "metadata": {},
   "source": [
    "- **match-case statements**"
   ]
  },
  {
   "cell_type": "code",
   "execution_count": 99,
   "metadata": {},
   "outputs": [
    {
     "name": "stdout",
     "output_type": "stream",
     "text": [
      "1\n"
     ]
    }
   ],
   "source": [
    "day=\"monday\"\n",
    "match day:\n",
    "    case \"monday\":\n",
    "        print(1)\n",
    "    case default:\n",
    "        print(0)"
   ]
  },
  {
   "cell_type": "markdown",
   "metadata": {},
   "source": [
    "#### **Looping Statements:** \n",
    "Repeatedly execute a block of code until a specific condition is met.\n",
    "\n",
    "- **for Loop**"
   ]
  },
  {
   "cell_type": "code",
   "execution_count": 100,
   "metadata": {},
   "outputs": [
    {
     "name": "stdout",
     "output_type": "stream",
     "text": [
      "1\n",
      "2\n",
      "3\n",
      "4\n",
      "5\n",
      "6\n",
      "7\n",
      "8\n",
      "9\n",
      "10\n"
     ]
    }
   ],
   "source": [
    "for i in range(0,10):\n",
    "    print(i+1)"
   ]
  },
  {
   "cell_type": "markdown",
   "metadata": {},
   "source": [
    "- **while loop**"
   ]
  },
  {
   "cell_type": "code",
   "execution_count": 101,
   "metadata": {},
   "outputs": [
    {
     "name": "stdout",
     "output_type": "stream",
     "text": [
      "1\n",
      "2\n",
      "3\n"
     ]
    }
   ],
   "source": [
    "counter=1\n",
    "while (counter<=3):\n",
    "    print(counter)\n",
    "    counter+=1"
   ]
  },
  {
   "cell_type": "markdown",
   "metadata": {},
   "source": [
    "## **Functions**\n",
    "\n",
    "- Groups code together into a block.\n",
    "- Allows us to call and reuse code efficently.\n",
    "- It could take in information (parameters) and return information (return statement) to the caller."
   ]
  },
  {
   "cell_type": "code",
   "execution_count": 103,
   "metadata": {},
   "outputs": [
    {
     "name": "stdout",
     "output_type": "stream",
     "text": [
      "Hello! whelcome to the world of functions\n"
     ]
    }
   ],
   "source": [
    "def greet():\n",
    "    print(\"Hello! whelcome to the world of functions\")\n",
    "    \n",
    "greet()"
   ]
  },
  {
   "cell_type": "markdown",
   "metadata": {},
   "source": [
    "#### **Functions with Parameters and Arguments**"
   ]
  },
  {
   "cell_type": "code",
   "execution_count": 104,
   "metadata": {},
   "outputs": [
    {
     "name": "stdout",
     "output_type": "stream",
     "text": [
      "Hello Jason.\n"
     ]
    }
   ],
   "source": [
    "def greet_user(name):\n",
    "    print(f\"Hello {name}.\")\n",
    "\n",
    "greet_user(\"Jason\")"
   ]
  }
 ],
 "metadata": {
  "kernelspec": {
   "display_name": "Python 3",
   "language": "python",
   "name": "python3"
  },
  "language_info": {
   "codemirror_mode": {
    "name": "ipython",
    "version": 3
   },
   "file_extension": ".py",
   "mimetype": "text/x-python",
   "name": "python",
   "nbconvert_exporter": "python",
   "pygments_lexer": "ipython3",
   "version": "3.12.3"
  }
 },
 "nbformat": 4,
 "nbformat_minor": 2
}
